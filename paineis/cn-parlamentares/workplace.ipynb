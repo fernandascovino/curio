{
 "cells": [
  {
   "cell_type": "code",
   "execution_count": 1,
   "metadata": {
    "collapsed": false
   },
   "outputs": [
    {
     "data": {
      "text/html": [
       "<script>requirejs.config({paths: { 'plotly': ['https://cdn.plot.ly/plotly-latest.min']},});if(!window.Plotly) {{require(['plotly'],function(plotly) {window.Plotly=plotly;});}}</script>"
      ],
      "text/vnd.plotly.v1+html": [
       "<script>requirejs.config({paths: { 'plotly': ['https://cdn.plot.ly/plotly-latest.min']},});if(!window.Plotly) {{require(['plotly'],function(plotly) {window.Plotly=plotly;});}}</script>"
      ]
     },
     "metadata": {},
     "output_type": "display_data"
    }
   ],
   "source": [
    "from sqlalchemy import create_engine\n",
    "import pandas as pd\n",
    "import numpy as np\n",
    "from copy import deepcopy\n",
    "from datetime import datetime\n",
    "from tqdm import tqdm\n",
    "from functools import reduce\n",
    "import unidecode\n",
    "import re\n",
    "import operator\n",
    "\n",
    "import plotly \n",
    "import plotly.plotly as py\n",
    "import plotly.graph_objs as go\n",
    "import plotly.offline as offline\n",
    "offline.init_notebook_mode(connected=True)\n",
    "\n",
    "from IPython.display import clear_output\n",
    "import requests\n",
    "\n",
    "# con = create_engine(server[db_cts])\n",
    "plotly.__version__\n",
    "%matplotlib inline"
   ]
  },
  {
   "cell_type": "markdown",
   "metadata": {},
   "source": [
    "## Basic informations table"
   ]
  },
  {
   "cell_type": "markdown",
   "metadata": {},
   "source": [
    "### Importing data"
   ]
  },
  {
   "cell_type": "code",
   "execution_count": 2,
   "metadata": {
    "collapsed": false
   },
   "outputs": [
    {
     "name": "stdout",
     "output_type": "stream",
     "text": [
      "deputados_datalhes OK\n",
      "tse_total_votos OK\n",
      "tse_candidatos OK\n"
     ]
    }
   ],
   "source": [
    "deputados_detalhes = pd.read_sql_query(\"\"\"\n",
    "    SELECT DISTINCT\n",
    "      t1.idecadastro,\n",
    "      numlegislatura,\n",
    "      nomeparlamentaratual,\n",
    "      nomecivil,\n",
    "      datanascimento,\n",
    "      partidoatualsigla,\n",
    "      ufrepresentacaoatual,\n",
    "      situacaonalegislaturaatual\n",
    "    FROM\n",
    "      c_camdep.camdep_deputados_detalhes t1,\n",
    "      (SELECT DISTINCT\n",
    "          idecadastro,\n",
    "          max(capnum) OVER (PARTITION BY idecadastro) capnum\n",
    "       FROM\n",
    "          c_camdep.camdep_deputados_detalhes) t2\n",
    "    WHERE\n",
    "      t1.idecadastro= t2.idecadastro AND\n",
    "      t1.capnum = t2.capnum AND\n",
    "      numlegislatura in (52,53,54,55);\n",
    "\"\"\",con)\n",
    "print('deputados_datalhes OK')\n",
    "\n",
    "tse_total_votos = pd.read_csv('data/total_votos_2014.csv')\n",
    "print('tse_total_votos OK')\n",
    "\n",
    "tse_candidatos = pd.read_sql(\"\"\"\n",
    "    SELECT\n",
    "      sigla_uf,\n",
    "      nome_candidato nomecivil,\n",
    "      numero_candidato numero_votavel,\n",
    "      data_nascimento datanascimento\n",
    "    FROM\n",
    "      c_tse.candidatos_2014\n",
    "    WHERE\n",
    "      codigo_cargo = 6 AND\n",
    "      desc_sit_tot_turno IN ('ELEITO','ELEITO POR MÉDIA','ELEITO POR QP','SUPLENTE')\n",
    "\"\"\",con)\n",
    "print('tse_candidatos OK')"
   ]
  },
  {
   "cell_type": "code",
   "execution_count": null,
   "metadata": {},
   "outputs": [],
   "source": [
    "deputados_detalhes.count()"
   ]
  },
  {
   "cell_type": "markdown",
   "metadata": {},
   "source": [
    "### Count legislatures"
   ]
  },
  {
   "cell_type": "code",
   "execution_count": 3,
   "metadata": {},
   "outputs": [],
   "source": [
    "legs = deputados_detalhes[['idecadastro','numlegislatura']]\\\n",
    "       .groupby('idecadastro').count().to_dict()['numlegislatura']\n",
    "\n",
    "dep_leg55 = deepcopy(deputados_detalhes.loc[deputados_detalhes.numlegislatura == 55])\n",
    "dep_leg55['legislaturas'] = dep_leg55.idecadastro.map(legs)"
   ]
  },
  {
   "cell_type": "markdown",
   "metadata": {},
   "source": [
    "### Get URL Picture"
   ]
  },
  {
   "cell_type": "code",
   "execution_count": 4,
   "metadata": {
    "collapsed": false
   },
   "outputs": [
    {
     "data": {
      "text/html": [
       "<div>\n",
       "<table border=\"1\" class=\"dataframe\">\n",
       "  <thead>\n",
       "    <tr style=\"text-align: right;\">\n",
       "      <th></th>\n",
       "      <th>idecadastro</th>\n",
       "      <th>numlegislatura</th>\n",
       "      <th>nomeparlamentaratual</th>\n",
       "      <th>nomecivil</th>\n",
       "      <th>datanascimento</th>\n",
       "      <th>partidoatualsigla</th>\n",
       "      <th>ufrepresentacaoatual</th>\n",
       "      <th>situacaonalegislaturaatual</th>\n",
       "      <th>legislaturas</th>\n",
       "      <th>urlfoto</th>\n",
       "    </tr>\n",
       "  </thead>\n",
       "  <tbody>\n",
       "    <tr>\n",
       "      <th>9</th>\n",
       "      <td>4930</td>\n",
       "      <td>55</td>\n",
       "      <td>SILVIO COSTA</td>\n",
       "      <td>SÍLVIO SERAFIM COSTA</td>\n",
       "      <td>1956-12-23</td>\n",
       "      <td>AVANTE</td>\n",
       "      <td>PE</td>\n",
       "      <td>Em Exercício</td>\n",
       "      <td>3</td>\n",
       "      <td>http://www.camara.leg.br/internet/deputado/ban...</td>\n",
       "    </tr>\n",
       "    <tr>\n",
       "      <th>12</th>\n",
       "      <td>4931</td>\n",
       "      <td>55</td>\n",
       "      <td>IZALCI LUCAS</td>\n",
       "      <td>IZALCI LUCAS FERREIRA</td>\n",
       "      <td>1956-04-07</td>\n",
       "      <td>PSDB</td>\n",
       "      <td>DF</td>\n",
       "      <td>Em Exercício</td>\n",
       "      <td>3</td>\n",
       "      <td>http://www.camara.leg.br/internet/deputado/ban...</td>\n",
       "    </tr>\n",
       "  </tbody>\n",
       "</table>\n",
       "</div>"
      ],
      "text/plain": [
       "    idecadastro  numlegislatura nomeparlamentaratual              nomecivil  \\\n",
       "9          4930              55         SILVIO COSTA   SÍLVIO SERAFIM COSTA   \n",
       "12         4931              55         IZALCI LUCAS  IZALCI LUCAS FERREIRA   \n",
       "\n",
       "   datanascimento partidoatualsigla ufrepresentacaoatual  \\\n",
       "9      1956-12-23            AVANTE                   PE   \n",
       "12     1956-04-07              PSDB                   DF   \n",
       "\n",
       "   situacaonalegislaturaatual  legislaturas  \\\n",
       "9                Em Exercício             3   \n",
       "12               Em Exercício             3   \n",
       "\n",
       "                                              urlfoto  \n",
       "9   http://www.camara.leg.br/internet/deputado/ban...  \n",
       "12  http://www.camara.leg.br/internet/deputado/ban...  "
      ]
     },
     "execution_count": 4,
     "metadata": {},
     "output_type": "execute_result"
    }
   ],
   "source": [
    "def get_urlfoto(row):\n",
    "    return 'http://www.camara.leg.br/internet/deputado/bandep/{}.jpg'.format(row.idecadastro)\n",
    "\n",
    "dep_leg55.loc[:,'urlfoto'] = dep_leg55.apply(get_urlfoto,axis=1)\n",
    "dep_leg55.head(2)"
   ]
  },
  {
   "cell_type": "markdown",
   "metadata": {},
   "source": [
    "### Votes processing"
   ]
  },
  {
   "cell_type": "code",
   "execution_count": 5,
   "metadata": {},
   "outputs": [
    {
     "name": "stdout",
     "output_type": "stream",
     "text": [
      "<class 'pandas.core.frame.DataFrame'>\n",
      "RangeIndex: 7041 entries, 0 to 7040\n",
      "Data columns (total 5 columns):\n",
      "numero_votavel    7040 non-null float64\n",
      "sigla_uf          7041 non-null object\n",
      "nome_partido      6986 non-null object\n",
      "nome_votavel      7040 non-null object\n",
      "total_votos       7041 non-null int64\n",
      "dtypes: float64(1), int64(1), object(3)\n",
      "memory usage: 275.1+ KB\n"
     ]
    }
   ],
   "source": [
    "tse_total_votos.info()"
   ]
  },
  {
   "cell_type": "code",
   "execution_count": 6,
   "metadata": {
    "collapsed": true
   },
   "outputs": [],
   "source": [
    "tse_total_votos = tse_total_votos.dropna()\n",
    "tse_total_votos.numero_votavel = tse_total_votos.numero_votavel.astype(int)\n",
    "\n",
    "votes_by_parties = tse_total_votos[['nome_partido','total_votos']].groupby('nome_partido').sum()\n",
    "\n",
    "def percent_party(row):\n",
    "    return row.total_votos/votes_by_parties.total_votos[row.nome_partido]\n",
    "\n",
    "tse_total_votos.loc[:,'percent_party'] = tse_total_votos.apply(percent_party,axis=1)"
   ]
  },
  {
   "cell_type": "markdown",
   "metadata": {},
   "source": [
    "### Merging the TSE and CAMDEP congressmen datasets"
   ]
  },
  {
   "cell_type": "code",
   "execution_count": 7,
   "metadata": {
    "collapsed": true
   },
   "outputs": [],
   "source": [
    "tse_candidatos.numero_votavel = tse_candidatos.numero_votavel.astype(int)\n",
    "\n",
    "dep_leg55.datanascimento = pd.to_datetime(dep_leg55.datanascimento).dt.date\n",
    "tse_candidatos.datanascimento = pd.to_datetime(tse_candidatos.datanascimento).dt.date"
   ]
  },
  {
   "cell_type": "code",
   "execution_count": 8,
   "metadata": {
    "collapsed": true
   },
   "outputs": [],
   "source": [
    "def tse_unique_id(row):\n",
    "    return '{}_{}'.format(row.sigla_uf,row.numero_votavel)\n",
    "\n",
    "tse_candidatos.loc[:,'tse_id'] = tse_candidatos.apply(tse_unique_id,axis=1)\n",
    "tse_total_votos.loc[:,'tse_id'] = tse_total_votos.apply(tse_unique_id,axis=1)\n",
    "\n",
    "tse_candidatos = tse_candidatos.merge(\n",
    "    tse_total_votos[['total_votos','percent_party','tse_id']],\n",
    "    left_on='tse_id',right_on='tse_id',how='left'\n",
    ")"
   ]
  },
  {
   "cell_type": "code",
   "execution_count": 9,
   "metadata": {
    "collapsed": false
   },
   "outputs": [
    {
     "data": {
      "text/plain": [
       "Index(['idecadastro', 'numlegislatura', 'nomeparlamentaratual', 'nomecivil_x',\n",
       "       'datanascimento', 'partidoatualsigla', 'ufrepresentacaoatual',\n",
       "       'situacaonalegislaturaatual', 'legislaturas', 'urlfoto', 'global_id',\n",
       "       'nomecivil_y', 'total_votos', 'percent_party', 'numero_votavel'],\n",
       "      dtype='object')"
      ]
     },
     "execution_count": 9,
     "metadata": {},
     "output_type": "execute_result"
    }
   ],
   "source": [
    "def global_unique_id(row):\n",
    "    name = row.nomecivil.upper().replace(' DE ','').replace(' ','')\n",
    "    name = unidecode.unidecode(name)\n",
    "    birth = row.datanascimento.year\n",
    "    return '{}{}'.format(birth,name)\n",
    "\n",
    "tse_candidatos.loc[:,'global_id'] = tse_candidatos.apply(global_unique_id,axis=1)\n",
    "dep_leg55.loc[:,'global_id'] = dep_leg55.apply(global_unique_id,axis=1)\n",
    "\n",
    "### Fixing noise\n",
    "\n",
    "corrects_id = {\n",
    "    74558:'1957GIVALDOSAGOUVEIACARIMBAO',\n",
    "    146949:'1973ROSEANECAVALCANTEFREITAS',\n",
    "    178851:'1979JOZIANEARAUJONASCIMENTOROCHA',\n",
    "    178882:'1989ANDRELUISCARVALHORIBEIRO',\n",
    "    178883:'1977ELIZIANEPEREIRAGAMAFERREIRA',\n",
    "    178999:'1989BRUNIELEFERREIRADASILVA'\n",
    "}\n",
    "\n",
    "for i in corrects_id: \n",
    "    dep_leg55.loc[dep_leg55.idecadastro == i,'global_id'] = corrects_id[i]\n",
    "    \n",
    "dep_leg55 = dep_leg55.merge(\n",
    "   tse_candidatos[['global_id','nomecivil','total_votos','percent_party','numero_votavel']],\n",
    "   left_on='global_id',right_on='global_id',how='left'\n",
    ")\n",
    "\n",
    "dep_leg55.columns"
   ]
  },
  {
   "cell_type": "code",
   "execution_count": 10,
   "metadata": {
    "collapsed": false
   },
   "outputs": [
    {
     "data": {
      "text/html": [
       "<div>\n",
       "<table border=\"1\" class=\"dataframe\">\n",
       "  <thead>\n",
       "    <tr style=\"text-align: right;\">\n",
       "      <th></th>\n",
       "      <th>global_id</th>\n",
       "      <th>idecadastro</th>\n",
       "      <th>numero_eleicao</th>\n",
       "      <th>nome_social</th>\n",
       "      <th>nome_civil</th>\n",
       "      <th>data_nascimento</th>\n",
       "      <th>uf_eleicao</th>\n",
       "      <th>partido_atual</th>\n",
       "      <th>situacao_exercicio</th>\n",
       "      <th>url_foto</th>\n",
       "      <th>total_votos</th>\n",
       "      <th>percent_party</th>\n",
       "      <th>mandatos_desde2003</th>\n",
       "    </tr>\n",
       "  </thead>\n",
       "  <tbody>\n",
       "    <tr>\n",
       "      <th>0</th>\n",
       "      <td>1956SILVIOSERAFIMCOSTA</td>\n",
       "      <td>4930</td>\n",
       "      <td>2020.0</td>\n",
       "      <td>SILVIO COSTA</td>\n",
       "      <td>SILVIO SERAFIM COSTA</td>\n",
       "      <td>1956-12-23</td>\n",
       "      <td>PE</td>\n",
       "      <td>AVANTE</td>\n",
       "      <td>Em Exercício</td>\n",
       "      <td>http://www.camara.leg.br/internet/deputado/ban...</td>\n",
       "      <td>103461.0</td>\n",
       "      <td>0.040737</td>\n",
       "      <td>3</td>\n",
       "    </tr>\n",
       "    <tr>\n",
       "      <th>1</th>\n",
       "      <td>1956IZALCILUCASFERREIRA</td>\n",
       "      <td>4931</td>\n",
       "      <td>4545.0</td>\n",
       "      <td>IZALCI LUCAS</td>\n",
       "      <td>IZALCI LUCAS FERREIRA</td>\n",
       "      <td>1956-04-07</td>\n",
       "      <td>DF</td>\n",
       "      <td>PSDB</td>\n",
       "      <td>Em Exercício</td>\n",
       "      <td>http://www.camara.leg.br/internet/deputado/ban...</td>\n",
       "      <td>71937.0</td>\n",
       "      <td>0.006480</td>\n",
       "      <td>3</td>\n",
       "    </tr>\n",
       "  </tbody>\n",
       "</table>\n",
       "</div>"
      ],
      "text/plain": [
       "                 global_id  idecadastro  numero_eleicao   nome_social  \\\n",
       "0   1956SILVIOSERAFIMCOSTA         4930          2020.0  SILVIO COSTA   \n",
       "1  1956IZALCILUCASFERREIRA         4931          4545.0  IZALCI LUCAS   \n",
       "\n",
       "              nome_civil data_nascimento uf_eleicao partido_atual  \\\n",
       "0   SILVIO SERAFIM COSTA      1956-12-23         PE        AVANTE   \n",
       "1  IZALCI LUCAS FERREIRA      1956-04-07         DF          PSDB   \n",
       "\n",
       "  situacao_exercicio                                           url_foto  \\\n",
       "0       Em Exercício  http://www.camara.leg.br/internet/deputado/ban...   \n",
       "1       Em Exercício  http://www.camara.leg.br/internet/deputado/ban...   \n",
       "\n",
       "   total_votos  percent_party  mandatos_desde2003  \n",
       "0     103461.0       0.040737                   3  \n",
       "1      71937.0       0.006480                   3  "
      ]
     },
     "execution_count": 10,
     "metadata": {},
     "output_type": "execute_result"
    }
   ],
   "source": [
    "dep_leg55 = dep_leg55.loc[:,[\n",
    "    'global_id','idecadastro','numero_votavel','nomeparlamentaratual',\n",
    "    'nomecivil_y','datanascimento','ufrepresentacaoatual','partidoatualsigla',\n",
    "    'situacaonalegislaturaatual','urlfoto','total_votos','percent_party', 'legislaturas'\n",
    "]]\n",
    "\n",
    "dep_leg55.columns = [\n",
    "    'global_id','idecadastro','numero_eleicao','nome_social',\n",
    "    'nome_civil','data_nascimento','uf_eleicao','partido_atual',\n",
    "    'situacao_exercicio','url_foto','total_votos','percent_party', 'mandatos_desde2003'\n",
    "]\n",
    "dep_leg55.head(2)"
   ]
  },
  {
   "cell_type": "markdown",
   "metadata": {},
   "source": [
    "## Propositions table"
   ]
  },
  {
   "cell_type": "markdown",
   "metadata": {},
   "source": [
    "### Importing Data"
   ]
  },
  {
   "cell_type": "code",
   "execution_count": 11,
   "metadata": {
    "collapsed": false
   },
   "outputs": [
    {
     "name": "stdout",
     "output_type": "stream",
     "text": [
      "proposicoes_id OK\n"
     ]
    }
   ],
   "source": [
    "proposicoes_id = pd.read_sql(\"\"\"\n",
    "    SELECT DISTINCT\n",
    "      t1.idproposicao,\n",
    "      nomeproposicao,\n",
    "      tema,\n",
    "      ementa,\n",
    "      idecadastro,\n",
    "      autor,\n",
    "      ufautor,\n",
    "      partidoautor,\n",
    "      dataapresentacao,\n",
    "      regimetramitacao,\n",
    "      indexacao,\n",
    "      linkinteiroteor,\n",
    "      situacao\n",
    "    FROM\n",
    "      c_camdep.camdep_proposicoes_id t1,\n",
    "      (SELECT DISTINCT\n",
    "         idproposicao,\n",
    "         max(capnum) OVER (PARTITION BY idproposicao) capnum\n",
    "       FROM\n",
    "         c_camdep.camdep_proposicoes_id) t2\n",
    "    WHERE\n",
    "      t1.idproposicao = t2.idproposicao AND\n",
    "      t1.capnum = t2.capnum AND\n",
    "      t1.nomeproposicao SIMILAR TO '(PL|PLP|PLV|MPV|PDC|PEC) %%'\n",
    "\"\"\",con)\n",
    "print('proposicoes_id OK')"
   ]
  },
  {
   "cell_type": "markdown",
   "metadata": {},
   "source": [
    "### Cataloging propositions by situation\n",
    "\n",
    "Based on [analisys](https://docs.google.com/document/d/1qqcfJMybpvjKJ63i77YcVbIUzUezkTpnnqbBSJmXMT0/edit?usp=sharing) produced by Congresso em Números."
   ]
  },
  {
   "cell_type": "code",
   "execution_count": 12,
   "metadata": {
    "collapsed": false
   },
   "outputs": [
    {
     "name": "stderr",
     "output_type": "stream",
     "text": [
      "100%|██████████| 2/2 [00:00<00:00,  2.62it/s]\n"
     ]
    }
   ],
   "source": [
    "proposicoes_id.rename(columns={'situacao':'descricao_situacao'},inplace=True)\n",
    "proposicoes_id['situacao'] = 'Em tramitação'\n",
    "\n",
    "classification = {\n",
    "    'Aprovada': [\n",
    "        'Tranformada',\n",
    "        'Transformado em Norma Jurídica',    \n",
    "        'Aguardando Apreciação pelo Senado Federal',\n",
    "        'Aguardando Envio ao Senado Federal',\n",
    "        'Enviada ao Senado Federal',\n",
    "        'Aguardando Promulgação',\n",
    "        'Aguardando Apreciação do Veto',\n",
    "        'Aguardando Sanção',\n",
    "        'Aguardando Envio ao Executivo',\n",
    "        'Vetado Totalmente',\n",
    "        'Originou'    \n",
    "    ],\n",
    "    'Arquivada': [\n",
    "        'Arquivada',\n",
    "        'Aguardando Despacho de Arquivamento',\n",
    "        'Aguardando Remessa ao Arquivo',\n",
    "        'Enviada ao arquivo',\n",
    "        'Perdeu a eficácia',\n",
    "        'Transformado em nova proposição'\n",
    "    ]\n",
    "}\n",
    "\n",
    "for situation in tqdm(classification):\n",
    "    sits = '|'.join(classification[situation]) \n",
    "    proposicoes_id.loc[proposicoes_id['descricao_situacao'].str.contains(sits) == True, 'situacao'] = situation"
   ]
  },
  {
   "cell_type": "markdown",
   "metadata": {},
   "source": [
    "### Count sponsors"
   ]
  },
  {
   "cell_type": "code",
   "execution_count": 13,
   "metadata": {
    "collapsed": false
   },
   "outputs": [
    {
     "data": {
      "text/html": [
       "<div>\n",
       "<table border=\"1\" class=\"dataframe\">\n",
       "  <thead>\n",
       "    <tr style=\"text-align: right;\">\n",
       "      <th></th>\n",
       "      <th>global_id</th>\n",
       "      <th>idecadastro</th>\n",
       "      <th>numero_eleicao</th>\n",
       "      <th>nome_social</th>\n",
       "      <th>nome_civil</th>\n",
       "      <th>data_nascimento</th>\n",
       "      <th>uf_eleicao</th>\n",
       "      <th>partido_atual</th>\n",
       "      <th>situacao_exercicio</th>\n",
       "      <th>url_foto</th>\n",
       "      <th>total_votos</th>\n",
       "      <th>percent_party</th>\n",
       "      <th>mandatos_desde2003</th>\n",
       "      <th>apresentacoes</th>\n",
       "      <th>apresentacoes_aprovadas</th>\n",
       "      <th>taxa_sucesso</th>\n",
       "      <th>media_apresentacoes</th>\n",
       "      <th>media_taxa_sucesso</th>\n",
       "    </tr>\n",
       "  </thead>\n",
       "  <tbody>\n",
       "    <tr>\n",
       "      <th>0</th>\n",
       "      <td>1956SILVIOSERAFIMCOSTA</td>\n",
       "      <td>4930</td>\n",
       "      <td>2020.0</td>\n",
       "      <td>SILVIO COSTA</td>\n",
       "      <td>SILVIO SERAFIM COSTA</td>\n",
       "      <td>1956-12-23</td>\n",
       "      <td>PE</td>\n",
       "      <td>AVANTE</td>\n",
       "      <td>Em Exercício</td>\n",
       "      <td>http://www.camara.leg.br/internet/deputado/ban...</td>\n",
       "      <td>103461.0</td>\n",
       "      <td>0.040737</td>\n",
       "      <td>3</td>\n",
       "      <td>22</td>\n",
       "      <td>0</td>\n",
       "      <td>0.0</td>\n",
       "      <td>41.804241</td>\n",
       "      <td>0.037442</td>\n",
       "    </tr>\n",
       "    <tr>\n",
       "      <th>1</th>\n",
       "      <td>1956IZALCILUCASFERREIRA</td>\n",
       "      <td>4931</td>\n",
       "      <td>4545.0</td>\n",
       "      <td>IZALCI LUCAS</td>\n",
       "      <td>IZALCI LUCAS FERREIRA</td>\n",
       "      <td>1956-04-07</td>\n",
       "      <td>DF</td>\n",
       "      <td>PSDB</td>\n",
       "      <td>Em Exercício</td>\n",
       "      <td>http://www.camara.leg.br/internet/deputado/ban...</td>\n",
       "      <td>71937.0</td>\n",
       "      <td>0.006480</td>\n",
       "      <td>3</td>\n",
       "      <td>43</td>\n",
       "      <td>0</td>\n",
       "      <td>0.0</td>\n",
       "      <td>41.804241</td>\n",
       "      <td>0.037442</td>\n",
       "    </tr>\n",
       "  </tbody>\n",
       "</table>\n",
       "</div>"
      ],
      "text/plain": [
       "                 global_id  idecadastro  numero_eleicao   nome_social  \\\n",
       "0   1956SILVIOSERAFIMCOSTA         4930          2020.0  SILVIO COSTA   \n",
       "1  1956IZALCILUCASFERREIRA         4931          4545.0  IZALCI LUCAS   \n",
       "\n",
       "              nome_civil data_nascimento uf_eleicao partido_atual  \\\n",
       "0   SILVIO SERAFIM COSTA      1956-12-23         PE        AVANTE   \n",
       "1  IZALCI LUCAS FERREIRA      1956-04-07         DF          PSDB   \n",
       "\n",
       "  situacao_exercicio                                           url_foto  \\\n",
       "0       Em Exercício  http://www.camara.leg.br/internet/deputado/ban...   \n",
       "1       Em Exercício  http://www.camara.leg.br/internet/deputado/ban...   \n",
       "\n",
       "   total_votos  percent_party  mandatos_desde2003  apresentacoes  \\\n",
       "0     103461.0       0.040737                   3             22   \n",
       "1      71937.0       0.006480                   3             43   \n",
       "\n",
       "   apresentacoes_aprovadas  taxa_sucesso  media_apresentacoes  \\\n",
       "0                        0           0.0            41.804241   \n",
       "1                        0           0.0            41.804241   \n",
       "\n",
       "   media_taxa_sucesso  \n",
       "0            0.037442  \n",
       "1            0.037442  "
      ]
     },
     "execution_count": 13,
     "metadata": {},
     "output_type": "execute_result"
    }
   ],
   "source": [
    "proposicoes_id.idecadastro = np.nan_to_num(proposicoes_id.idecadastro).astype(int)\n",
    "sponsors = pd.DataFrame(proposicoes_id.idecadastro.value_counts())\n",
    "sponsors_approved = pd.DataFrame(\n",
    "    proposicoes_id[proposicoes_id.situacao == 'Aprovada'].idecadastro.value_counts()\n",
    ")\n",
    "sponsors.columns = ['apresentacoes']\n",
    "sponsors_approved.columns = ['apresentacoes_aprovadas']\n",
    "\n",
    "dep_leg55 = dep_leg55\\\n",
    "    .merge(sponsors, left_on='idecadastro', right_index=True, how='left')\\\n",
    "    .merge(sponsors_approved, left_on='idecadastro', right_index=True, how='left')\n",
    "\n",
    "dep_leg55.apresentacoes = np.nan_to_num(dep_leg55.apresentacoes).astype(int)\n",
    "dep_leg55.apresentacoes_aprovadas = np.nan_to_num(dep_leg55.apresentacoes_aprovadas).astype(int)\n",
    "\n",
    "dep_leg55.loc[:,'taxa_sucesso'] = dep_leg55.apresentacoes_aprovadas/dep_leg55.apresentacoes\n",
    "dep_leg55.loc[:,'media_apresentacoes'] = np.average(dep_leg55.apresentacoes)\n",
    "dep_leg55.loc[:,'media_taxa_sucesso'] = dep_leg55.taxa_sucesso.sum()/len(dep_leg55.taxa_sucesso)\n",
    "\n",
    "dep_leg55.head(2)"
   ]
  },
  {
   "cell_type": "code",
   "execution_count": 14,
   "metadata": {},
   "outputs": [
    {
     "name": "stdout",
     "output_type": "stream",
     "text": [
      "<class 'pandas.core.frame.DataFrame'>\n",
      "RangeIndex: 133159 entries, 0 to 133158\n",
      "Data columns (total 14 columns):\n",
      "idproposicao          133159 non-null int64\n",
      "nomeproposicao        133159 non-null object\n",
      "tema                  62888 non-null object\n",
      "ementa                133157 non-null object\n",
      "idecadastro           133159 non-null int64\n",
      "autor                 133159 non-null object\n",
      "ufautor               107898 non-null object\n",
      "partidoautor          107770 non-null object\n",
      "dataapresentacao      133159 non-null datetime64[ns]\n",
      "regimetramitacao      133064 non-null object\n",
      "indexacao             132319 non-null object\n",
      "linkinteiroteor       65285 non-null object\n",
      "descricao_situacao    133138 non-null object\n",
      "situacao              133159 non-null object\n",
      "dtypes: datetime64[ns](1), int64(2), object(11)\n",
      "memory usage: 14.2+ MB\n"
     ]
    }
   ],
   "source": [
    "proposicoes_id.info()"
   ]
  },
  {
   "cell_type": "markdown",
   "metadata": {},
   "source": [
    "## Themes by congresmen"
   ]
  },
  {
   "cell_type": "markdown",
   "metadata": {},
   "source": [
    "### Get themes"
   ]
  },
  {
   "cell_type": "code",
   "execution_count": 15,
   "metadata": {},
   "outputs": [],
   "source": [
    "themes = set()\n",
    "for i in proposicoes_id.tema:\n",
    "    if i:\n",
    "        i = i.replace(' (utilizado até a legislatura 53)','')\\\n",
    "             .replace('; ',', ')\\\n",
    "             .split(', ')\n",
    "        themes = themes.union(i)\n",
    "\n",
    "# Filter propositions \n",
    "\n",
    "proposicoes_temas = proposicoes_id[['idecadastro','tema']][\n",
    "    proposicoes_id.idecadastro.isin(dep_leg55.idecadastro)\n",
    "]"
   ]
  },
  {
   "cell_type": "code",
   "execution_count": 16,
   "metadata": {},
   "outputs": [
    {
     "data": {
      "text/html": [
       "<div>\n",
       "<table border=\"1\" class=\"dataframe\">\n",
       "  <thead>\n",
       "    <tr style=\"text-align: right;\">\n",
       "      <th></th>\n",
       "      <th>idecadastro</th>\n",
       "      <th>tema</th>\n",
       "    </tr>\n",
       "  </thead>\n",
       "  <tbody>\n",
       "    <tr>\n",
       "      <th>12</th>\n",
       "      <td>73666</td>\n",
       "      <td>Organização Político-Administrativa do Estado ...</td>\n",
       "    </tr>\n",
       "    <tr>\n",
       "      <th>25</th>\n",
       "      <td>160515</td>\n",
       "      <td>Homenagens e Datas Comemorativas</td>\n",
       "    </tr>\n",
       "  </tbody>\n",
       "</table>\n",
       "</div>"
      ],
      "text/plain": [
       "    idecadastro                                               tema\n",
       "12        73666  Organização Político-Administrativa do Estado ...\n",
       "25       160515                   Homenagens e Datas Comemorativas"
      ]
     },
     "execution_count": 16,
     "metadata": {},
     "output_type": "execute_result"
    }
   ],
   "source": [
    "proposicoes_temas.head(2)"
   ]
  },
  {
   "cell_type": "markdown",
   "metadata": {},
   "source": [
    "### Count themes by congressman"
   ]
  },
  {
   "cell_type": "code",
   "execution_count": 17,
   "metadata": {},
   "outputs": [],
   "source": [
    "parlamentares_tema = pd.DataFrame(columns=['idecadastro'] + list(themes))\n",
    "\n",
    "dic = {theme:0 for theme in themes}\n",
    "for i in dep_leg55.idecadastro.unique():\n",
    "    dic['idecadastro'] = i\n",
    "    parlamentares_tema = parlamentares_tema.append(dic,ignore_index=True)\n",
    "parlamentares_tema = parlamentares_tema.astype(int)"
   ]
  },
  {
   "cell_type": "code",
   "execution_count": 18,
   "metadata": {},
   "outputs": [
    {
     "name": "stderr",
     "output_type": "stream",
     "text": [
      "100%|██████████| 25626/25626 [02:32<00:00, 168.26it/s]\n"
     ]
    },
    {
     "data": {
      "text/html": [
       "<div>\n",
       "<table border=\"1\" class=\"dataframe\">\n",
       "  <thead>\n",
       "    <tr style=\"text-align: right;\">\n",
       "      <th></th>\n",
       "      <th>idecadastro</th>\n",
       "      <th>Desporto e Lazer</th>\n",
       "      <th>Ciência</th>\n",
       "      <th>Organização Administrativa do Estado</th>\n",
       "      <th>Homenagens e Datas Comemorativas</th>\n",
       "      <th>Processo Legislativo</th>\n",
       "      <th>Comércio Exterior</th>\n",
       "      <th>Direitos Humanos e Minorias</th>\n",
       "      <th>Partidária e Eleitoral</th>\n",
       "      <th>Economia</th>\n",
       "      <th>...</th>\n",
       "      <th>Cidades e Desenvolvimento Urbano</th>\n",
       "      <th>Viação e Transportes</th>\n",
       "      <th>Direito Civil e Processual Civil</th>\n",
       "      <th>Direito e Justiça</th>\n",
       "      <th>Recursos Hídricos</th>\n",
       "      <th>Direitos Humanos</th>\n",
       "      <th>Relações Internacionais</th>\n",
       "      <th>Política Fundiária</th>\n",
       "      <th>Finanças Públicas e Orçamento</th>\n",
       "      <th>Tributação</th>\n",
       "    </tr>\n",
       "  </thead>\n",
       "  <tbody>\n",
       "    <tr>\n",
       "      <th>0</th>\n",
       "      <td>4930</td>\n",
       "      <td>0</td>\n",
       "      <td>0</td>\n",
       "      <td>0</td>\n",
       "      <td>0</td>\n",
       "      <td>0</td>\n",
       "      <td>0</td>\n",
       "      <td>0</td>\n",
       "      <td>2</td>\n",
       "      <td>2</td>\n",
       "      <td>...</td>\n",
       "      <td>0</td>\n",
       "      <td>1</td>\n",
       "      <td>1</td>\n",
       "      <td>0</td>\n",
       "      <td>1</td>\n",
       "      <td>2</td>\n",
       "      <td>0</td>\n",
       "      <td>0</td>\n",
       "      <td>1</td>\n",
       "      <td>0</td>\n",
       "    </tr>\n",
       "    <tr>\n",
       "      <th>1</th>\n",
       "      <td>4931</td>\n",
       "      <td>1</td>\n",
       "      <td>1</td>\n",
       "      <td>0</td>\n",
       "      <td>1</td>\n",
       "      <td>0</td>\n",
       "      <td>0</td>\n",
       "      <td>0</td>\n",
       "      <td>3</td>\n",
       "      <td>0</td>\n",
       "      <td>...</td>\n",
       "      <td>0</td>\n",
       "      <td>2</td>\n",
       "      <td>0</td>\n",
       "      <td>0</td>\n",
       "      <td>0</td>\n",
       "      <td>6</td>\n",
       "      <td>0</td>\n",
       "      <td>0</td>\n",
       "      <td>2</td>\n",
       "      <td>8</td>\n",
       "    </tr>\n",
       "    <tr>\n",
       "      <th>2</th>\n",
       "      <td>62881</td>\n",
       "      <td>0</td>\n",
       "      <td>0</td>\n",
       "      <td>2</td>\n",
       "      <td>2</td>\n",
       "      <td>0</td>\n",
       "      <td>0</td>\n",
       "      <td>0</td>\n",
       "      <td>0</td>\n",
       "      <td>0</td>\n",
       "      <td>...</td>\n",
       "      <td>0</td>\n",
       "      <td>0</td>\n",
       "      <td>0</td>\n",
       "      <td>0</td>\n",
       "      <td>0</td>\n",
       "      <td>1</td>\n",
       "      <td>0</td>\n",
       "      <td>0</td>\n",
       "      <td>3</td>\n",
       "      <td>0</td>\n",
       "    </tr>\n",
       "    <tr>\n",
       "      <th>3</th>\n",
       "      <td>64960</td>\n",
       "      <td>0</td>\n",
       "      <td>0</td>\n",
       "      <td>0</td>\n",
       "      <td>1</td>\n",
       "      <td>0</td>\n",
       "      <td>0</td>\n",
       "      <td>0</td>\n",
       "      <td>0</td>\n",
       "      <td>1</td>\n",
       "      <td>...</td>\n",
       "      <td>0</td>\n",
       "      <td>0</td>\n",
       "      <td>1</td>\n",
       "      <td>0</td>\n",
       "      <td>0</td>\n",
       "      <td>2</td>\n",
       "      <td>0</td>\n",
       "      <td>1</td>\n",
       "      <td>0</td>\n",
       "      <td>2</td>\n",
       "    </tr>\n",
       "    <tr>\n",
       "      <th>4</th>\n",
       "      <td>66179</td>\n",
       "      <td>0</td>\n",
       "      <td>0</td>\n",
       "      <td>0</td>\n",
       "      <td>1</td>\n",
       "      <td>0</td>\n",
       "      <td>0</td>\n",
       "      <td>0</td>\n",
       "      <td>0</td>\n",
       "      <td>0</td>\n",
       "      <td>...</td>\n",
       "      <td>0</td>\n",
       "      <td>0</td>\n",
       "      <td>0</td>\n",
       "      <td>0</td>\n",
       "      <td>0</td>\n",
       "      <td>3</td>\n",
       "      <td>0</td>\n",
       "      <td>0</td>\n",
       "      <td>1</td>\n",
       "      <td>3</td>\n",
       "    </tr>\n",
       "  </tbody>\n",
       "</table>\n",
       "<p>5 rows × 66 columns</p>\n",
       "</div>"
      ],
      "text/plain": [
       "   idecadastro  Desporto e Lazer  Ciência  \\\n",
       "0         4930                 0        0   \n",
       "1         4931                 1        1   \n",
       "2        62881                 0        0   \n",
       "3        64960                 0        0   \n",
       "4        66179                 0        0   \n",
       "\n",
       "   Organização Administrativa do Estado  Homenagens e Datas Comemorativas  \\\n",
       "0                                     0                                 0   \n",
       "1                                     0                                 1   \n",
       "2                                     2                                 2   \n",
       "3                                     0                                 1   \n",
       "4                                     0                                 1   \n",
       "\n",
       "   Processo Legislativo  Comércio Exterior  Direitos Humanos e Minorias  \\\n",
       "0                     0                  0                            0   \n",
       "1                     0                  0                            0   \n",
       "2                     0                  0                            0   \n",
       "3                     0                  0                            0   \n",
       "4                     0                  0                            0   \n",
       "\n",
       "   Partidária e Eleitoral  Economia     ...      \\\n",
       "0                       2         2     ...       \n",
       "1                       3         0     ...       \n",
       "2                       0         0     ...       \n",
       "3                       0         1     ...       \n",
       "4                       0         0     ...       \n",
       "\n",
       "   Cidades e Desenvolvimento Urbano  Viação e Transportes  \\\n",
       "0                                 0                     1   \n",
       "1                                 0                     2   \n",
       "2                                 0                     0   \n",
       "3                                 0                     0   \n",
       "4                                 0                     0   \n",
       "\n",
       "   Direito Civil e Processual Civil  Direito e Justiça  Recursos Hídricos  \\\n",
       "0                                 1                  0                  1   \n",
       "1                                 0                  0                  0   \n",
       "2                                 0                  0                  0   \n",
       "3                                 1                  0                  0   \n",
       "4                                 0                  0                  0   \n",
       "\n",
       "   Direitos Humanos  Relações Internacionais  Política Fundiária  \\\n",
       "0                 2                        0                   0   \n",
       "1                 6                        0                   0   \n",
       "2                 1                        0                   0   \n",
       "3                 2                        0                   1   \n",
       "4                 3                        0                   0   \n",
       "\n",
       "   Finanças Públicas e Orçamento  Tributação  \n",
       "0                              1           0  \n",
       "1                              2           8  \n",
       "2                              3           0  \n",
       "3                              0           2  \n",
       "4                              1           3  \n",
       "\n",
       "[5 rows x 66 columns]"
      ]
     },
     "execution_count": 18,
     "metadata": {},
     "output_type": "execute_result"
    }
   ],
   "source": [
    "k = 0\n",
    "for l in tqdm(proposicoes_temas.to_dict(orient='split')['data']):\n",
    "    k+=1\n",
    "    if k%50 == 0: clear_output()\n",
    "    if l[1]:\n",
    "        l[1] = l[1].replace(' (utilizado até a legislatura 53)','')\\\n",
    "                   .replace('; ',', ')\\\n",
    "                   .split(', ')\n",
    "        for theme in l[1]:\n",
    "            parlamentares_tema.loc[parlamentares_tema.idecadastro == l[0],theme] += 1\n",
    "parlamentares_tema.head()"
   ]
  },
  {
   "cell_type": "markdown",
   "metadata": {},
   "source": [
    "## Committee table"
   ]
  },
  {
   "cell_type": "markdown",
   "metadata": {},
   "source": [
    "### Importing Data"
   ]
  },
  {
   "cell_type": "code",
   "execution_count": 19,
   "metadata": {
    "collapsed": false
   },
   "outputs": [
    {
     "name": "stdout",
     "output_type": "stream",
     "text": [
      "orgaos_membros OK\n"
     ]
    }
   ],
   "source": [
    "orgaos_membros = pd.read_sql(\"\"\"\n",
    "    SELECT\n",
    "      idecadastro,\n",
    "      idorgao,\n",
    "      siglaorgao,\n",
    "      nomeorgao,\n",
    "      tipoorgao,\n",
    "      nomepapel,\n",
    "      datainicio,\n",
    "      datafim\n",
    "    FROM\n",
    "      br_camdep_v2.orgaos_membros\n",
    "    WHERE\n",
    "      datainicio >= '2003-01-01';\n",
    "\"\"\",con)\n",
    "print('orgaos_membros OK')"
   ]
  },
  {
   "cell_type": "code",
   "execution_count": 20,
   "metadata": {
    "collapsed": true
   },
   "outputs": [],
   "source": [
    "orgaos_membros.idecadastro = np.nan_to_num(orgaos_membros.idecadastro).astype(int)\n",
    "orgaos_membros = orgaos_membros[\n",
    "    orgaos_membros.idecadastro.isin(dep_leg55.idecadastro)\n",
    "]"
   ]
  },
  {
   "cell_type": "code",
   "execution_count": 21,
   "metadata": {},
   "outputs": [
    {
     "name": "stdout",
     "output_type": "stream",
     "text": [
      "<class 'pandas.core.frame.DataFrame'>\n",
      "Int64Index: 32446 entries, 14 to 53533\n",
      "Data columns (total 8 columns):\n",
      "idecadastro    32446 non-null int64\n",
      "idorgao        32446 non-null int64\n",
      "siglaorgao     32446 non-null object\n",
      "nomeorgao      32446 non-null object\n",
      "tipoorgao      32446 non-null object\n",
      "nomepapel      32446 non-null object\n",
      "datainicio     32446 non-null object\n",
      "datafim        26093 non-null object\n",
      "dtypes: int64(2), object(6)\n",
      "memory usage: 2.2+ MB\n"
     ]
    }
   ],
   "source": [
    "orgaos_membros.info()"
   ]
  },
  {
   "cell_type": "markdown",
   "metadata": {},
   "source": [
    "## Plenary sessions votes table"
   ]
  },
  {
   "cell_type": "markdown",
   "metadata": {},
   "source": [
    "### Importing Data"
   ]
  },
  {
   "cell_type": "code",
   "execution_count": 22,
   "metadata": {
    "collapsed": false
   },
   "outputs": [
    {
     "name": "stdout",
     "output_type": "stream",
     "text": [
      "votacao_deputado OK\n",
      "votacao_bancada OK\n",
      "votacao_resumo OK\n"
     ]
    }
   ],
   "source": [
    "votacao_deputado = pd.read_sql(\"\"\"\n",
    "    SELECT DISTINCT\n",
    "      idecadastro,\n",
    "      codproposicao idproposicao,\n",
    "      codsessao,\n",
    "      datavotacao,\n",
    "      voto,\n",
    "      partido\n",
    "    FROM\n",
    "      c_camdep.camdep_proposicoes_votacao_deputado\n",
    "    WHERE\n",
    "      tipo SIMILAR TO '(PL|PLP|PLV|MPV|PDC|PEC)' AND\n",
    "      datavotacao >= '2003-01-01'\n",
    "\"\"\",con)\n",
    "print('votacao_deputado OK')\n",
    "\n",
    "votacao_bancada = pd.read_sql(\"\"\"\n",
    "    SELECT DISTINCT\n",
    "      codproposicao,\n",
    "      codsessao,\n",
    "      datavotacao,\n",
    "      sigla,\n",
    "      orientacao\n",
    "    FROM\n",
    "      c_camdep.camdep_proposicoes_votacao_bancada\n",
    "    WHERE\n",
    "      tipo SIMILAR TO '(PL|PLP|PLV|MPV|PDC|PEC)' AND\n",
    "      datavotacao >= '2003-01-01'\n",
    "\"\"\",con)\n",
    "print('votacao_bancada OK')\n",
    "\n",
    "votacao_resumo = pd.read_sql(\"\"\"\n",
    "    SELECT DISTINCT\n",
    "      codsessao,\n",
    "      datavotacao,\n",
    "      resumo,\n",
    "      objvotacao\n",
    "    FROM\n",
    "      c_camdep.camdep_proposicoes_votacao\n",
    "    WHERE\n",
    "      tipo SIMILAR TO '(PL|PLP|PLV|MPV|PDC|PEC)' AND\n",
    "      datavotacao >= '2003-01-01'\n",
    "\"\"\",con)\n",
    "print('votacao_resumo OK')"
   ]
  },
  {
   "cell_type": "code",
   "execution_count": 23,
   "metadata": {
    "collapsed": false
   },
   "outputs": [],
   "source": [
    "votacao_deputado.idecadastro = np.nan_to_num(votacao_deputado.idecadastro).astype(int)\n",
    "votacao_deputado = votacao_deputado[\n",
    "    votacao_deputado.idecadastro.isin(dep_leg55.idecadastro)\n",
    "]"
   ]
  },
  {
   "cell_type": "markdown",
   "metadata": {},
   "source": [
    "### Getting parties orientations"
   ]
  },
  {
   "cell_type": "code",
   "execution_count": 24,
   "metadata": {
    "collapsed": false
   },
   "outputs": [
    {
     "name": "stderr",
     "output_type": "stream",
     "text": [
      "100%|██████████| 2088/2088 [00:16<00:00, 130.05it/s]\n"
     ]
    }
   ],
   "source": [
    "def preparate_orientations(sec,dt):\n",
    "    \n",
    "    orientations = votacao_bancada[\n",
    "        (votacao_bancada.codsessao == sec) &\n",
    "        (votacao_bancada.datavotacao == dt)\n",
    "    ][['sigla','orientacao']].set_index('sigla').to_dict()['orientacao']\n",
    "\n",
    "    dic = {}\n",
    "    for (abbr,orientation) in orientations.items():\n",
    "        abbr = abbr.replace('Repr.','').strip('.')\n",
    "        if not abbr.isupper():\n",
    "            abbrs = re.findall('[A-Z][^A-Z]*', abbr)\n",
    "            if 'B' in abbrs:\n",
    "                abbrs.remove('B')\n",
    "                if 'Cdo' in abbrs:\n",
    "                    abbrs.append('PCdoB')\n",
    "                    abbrs.remove('Cdo')\n",
    "                    abbrs.remove('P')\n",
    "                elif 'Tdo' in abbrs:\n",
    "                    abbrs.append('PTdoB')\n",
    "                    abbrs.remove('Tdo')\n",
    "                    abbrs.remove('P')\n",
    "                elif 'Ptdo' in abbrs:\n",
    "                    abbrs.append('PTdoB')\n",
    "                    abbrs.remove('Ptdo')\n",
    "            for i in abbrs:\n",
    "                dic[i.upper()] = orientation\n",
    "        else:\n",
    "            dic[abbr] = orientation\n",
    "    return dic\n",
    "        \n",
    "orientations_dic = {}\n",
    "section_date = votacao_deputado[['codsessao','datavotacao']].drop_duplicates()\n",
    "\n",
    "for sec,dt in tqdm(section_date.to_dict(orient='split')['data']):\n",
    "    try:\n",
    "        orientations_dic[sec][str(dt)] = preparate_orientations(sec,dt)\n",
    "    except KeyError:\n",
    "        orientations_dic[sec] = {str(dt): preparate_orientations(sec,dt)}"
   ]
  },
  {
   "cell_type": "code",
   "execution_count": 25,
   "metadata": {},
   "outputs": [],
   "source": [
    "def get_orientation(row):\n",
    "    try:\n",
    "        orientation = orientations_dic[row.codsessao][str(row.datavotacao)][row.partido.upper()]\n",
    "        return orientation\n",
    "    except KeyError:\n",
    "        return None\n",
    "    \n",
    "votacao_deputado.loc[:,'orientacaobancada'] = votacao_deputado.apply(get_orientation,axis=1)"
   ]
  },
  {
   "cell_type": "markdown",
   "metadata": {},
   "source": [
    "### Merging the results"
   ]
  },
  {
   "cell_type": "code",
   "execution_count": 26,
   "metadata": {},
   "outputs": [],
   "source": [
    "votacao_deputado = votacao_deputado.merge(\n",
    "    votacao_resumo,\n",
    "    left_on=['codsessao','datavotacao'],\n",
    "    right_on=['codsessao','datavotacao'],\n",
    "    how='left'\n",
    ")"
   ]
  },
  {
   "cell_type": "markdown",
   "metadata": {},
   "source": [
    "### Getting the propositions infos "
   ]
  },
  {
   "cell_type": "code",
   "execution_count": 27,
   "metadata": {},
   "outputs": [],
   "source": [
    "votacao_deputado = votacao_deputado.merge(\n",
    "    proposicoes_id.loc[:,['idproposicao','nomeproposicao','ementa']],\n",
    "    left_on='idproposicao',\n",
    "    right_on='idproposicao',\n",
    "    how='left'\n",
    ")"
   ]
  },
  {
   "cell_type": "code",
   "execution_count": 28,
   "metadata": {},
   "outputs": [
    {
     "data": {
      "text/html": [
       "<div>\n",
       "<table border=\"1\" class=\"dataframe\">\n",
       "  <thead>\n",
       "    <tr style=\"text-align: right;\">\n",
       "      <th></th>\n",
       "      <th>idecadastro</th>\n",
       "      <th>idproposicao</th>\n",
       "      <th>codsessao</th>\n",
       "      <th>datavotacao</th>\n",
       "      <th>voto</th>\n",
       "      <th>partido</th>\n",
       "      <th>orientacaobancada</th>\n",
       "      <th>resumo</th>\n",
       "      <th>objvotacao</th>\n",
       "      <th>nomeproposicao</th>\n",
       "      <th>ementa</th>\n",
       "    </tr>\n",
       "  </thead>\n",
       "  <tbody>\n",
       "    <tr>\n",
       "      <th>0</th>\n",
       "      <td>4930</td>\n",
       "      <td>14245</td>\n",
       "      <td>4872</td>\n",
       "      <td>2013-04-09 21:10:00</td>\n",
       "      <td>Sim</td>\n",
       "      <td>PTB</td>\n",
       "      <td>Obstrução</td>\n",
       "      <td>Prejudicado o requerimento por falta de quórum...</td>\n",
       "      <td>REQUERIMENTO DE RETIRADA DE PAUTA</td>\n",
       "      <td>PEC 3/1999</td>\n",
       "      <td>Altera os arts. 27, 28, 29, 44 e 82 da Constit...</td>\n",
       "    </tr>\n",
       "    <tr>\n",
       "      <th>1</th>\n",
       "      <td>4930</td>\n",
       "      <td>14271</td>\n",
       "      <td>3725</td>\n",
       "      <td>2009-05-20 20:26:00</td>\n",
       "      <td>Sim</td>\n",
       "      <td>PMN</td>\n",
       "      <td>Obstrução</td>\n",
       "      <td>Aprovado o Substitutivo adotado pela Comissão ...</td>\n",
       "      <td>SUBSTITUTIVO - PRIMEIRO TURNO</td>\n",
       "      <td>PEC 22/1999</td>\n",
       "      <td>Autoriza o divórcio após 1 (um) ano de separaç...</td>\n",
       "    </tr>\n",
       "  </tbody>\n",
       "</table>\n",
       "</div>"
      ],
      "text/plain": [
       "   idecadastro  idproposicao  codsessao         datavotacao voto partido  \\\n",
       "0         4930         14245       4872 2013-04-09 21:10:00  Sim     PTB   \n",
       "1         4930         14271       3725 2009-05-20 20:26:00  Sim     PMN   \n",
       "\n",
       "  orientacaobancada                                             resumo  \\\n",
       "0         Obstrução  Prejudicado o requerimento por falta de quórum...   \n",
       "1         Obstrução  Aprovado o Substitutivo adotado pela Comissão ...   \n",
       "\n",
       "                          objvotacao nomeproposicao  \\\n",
       "0  REQUERIMENTO DE RETIRADA DE PAUTA     PEC 3/1999   \n",
       "1      SUBSTITUTIVO - PRIMEIRO TURNO    PEC 22/1999   \n",
       "\n",
       "                                              ementa  \n",
       "0  Altera os arts. 27, 28, 29, 44 e 82 da Constit...  \n",
       "1  Autoriza o divórcio após 1 (um) ano de separaç...  "
      ]
     },
     "execution_count": 28,
     "metadata": {},
     "output_type": "execute_result"
    }
   ],
   "source": [
    "votacao_deputado.head(2)"
   ]
  },
  {
   "cell_type": "code",
   "execution_count": null,
   "metadata": {},
   "outputs": [],
   "source": [
    "# dep_leg55.to_sql('parlamentares',con,schema='viz_painel_parlamentares',if_exists='replace')\n",
    "# parlamentares_tema.to_sql('parlamentares_temas',con,schema='viz_painel_parlamentares',if_exists='replace')\n",
    "# proposicoes_id.to_sql('proposicoes',con,schema='viz_painel_parlamentares',if_exists='replace')\n",
    "# orgaos_membros.to_sql('orgaos',con,schema='viz_painel_parlamentares',if_exists='replace')\n",
    "votacao_deputado.to_sql('votacoes',con,schema='viz_painel_parlamentares',if_exists='replace')"
   ]
  },
  {
   "cell_type": "code",
   "execution_count": null,
   "metadata": {},
   "outputs": [],
   "source": [
    "'a'"
   ]
  },
  {
   "cell_type": "code",
   "execution_count": null,
   "metadata": {},
   "outputs": [],
   "source": []
  },
  {
   "cell_type": "code",
   "execution_count": null,
   "metadata": {},
   "outputs": [],
   "source": []
  },
  {
   "cell_type": "code",
   "execution_count": 29,
   "metadata": {},
   "outputs": [
    {
     "data": {
      "application/vnd.plotly.v1+json": {
       "data": [
        {
         "marker": {
          "color": "#00B3E0"
         },
         "orientation": "h",
         "text": [
          "Outros",
          "Trabalho e Emprego",
          "Minorias e Cidadania",
          "Direitos Humanos",
          "Direito Penal e Processual Penal",
          "Tributação"
         ],
         "textposition": "outside",
         "type": "bar",
         "uid": "3e7edc",
         "x": [
          283,
          24,
          28,
          28,
          29,
          32
         ],
         "y": [
          "Outros",
          "Trabalho e Emprego",
          "Minorias e Cidadania",
          "Direitos Humanos",
          "Direito Penal e Processual Penal",
          "Tributação"
         ]
        }
       ],
       "layout": {
        "annotations": [
         {
          "font": {
           "color": "white",
           "family": "Lato",
           "size": 12
          },
          "showarrow": false,
          "text": "Outros - 283",
          "x": 238,
          "y": 0
         },
         {
          "font": {
           "color": "rgb(170, 170, 170)",
           "family": "Lato",
           "size": 12
          },
          "showarrow": false,
          "text": "CONTINUA ->    ",
          "x": 238,
          "y": 0.55
         },
         {
          "font": {
           "color": "white",
           "family": "Lato",
           "size": 12
          },
          "showarrow": false,
          "text": "24",
          "x": 19,
          "y": 1
         },
         {
          "font": {
           "color": "white",
           "family": "Lato",
           "size": 12
          },
          "showarrow": false,
          "text": "28",
          "x": 23,
          "y": 2
         },
         {
          "font": {
           "color": "white",
           "family": "Lato",
           "size": 12
          },
          "showarrow": false,
          "text": "28",
          "x": 23,
          "y": 3
         },
         {
          "font": {
           "color": "white",
           "family": "Lato",
           "size": 12
          },
          "showarrow": false,
          "text": "29",
          "x": 24,
          "y": 4
         },
         {
          "font": {
           "color": "white",
           "family": "Lato",
           "size": 12
          },
          "showarrow": false,
          "text": "32",
          "x": 27,
          "y": 5
         }
        ],
        "autosize": true,
        "margin": {
         "l": 20,
         "pad": 0,
         "t": 10
        },
        "shapes": [
         {
          "line": {
           "color": "rgb(170, 170, 170)",
           "dash": "dot",
           "width": 3
          },
          "type": "line",
          "x0": 250,
          "x1": 250,
          "y0": -0.5,
          "y1": 6
         }
        ],
        "xaxis": {
         "range": [
          0,
          250
         ],
         "tickfont": {
          "family": "Lato",
          "size": 10
         },
         "ticks": "",
         "title": "Quantidade",
         "type": "linear",
         "zeroline": false
        },
        "yaxis": {
         "autorange": true,
         "range": [
          -0.5273109243697479,
          6.027310924369748
         ],
         "showticklabels": false,
         "ticks": "",
         "title": "Temas",
         "type": "category"
        }
       }
      },
      "text/html": [
       "<div id=\"e581d4c5-ea90-461c-9f04-728f8b05fd38\" style=\"height: 525px; width: 100%;\" class=\"plotly-graph-div\"></div><script type=\"text/javascript\">require([\"plotly\"], function(Plotly) { window.PLOTLYENV=window.PLOTLYENV || {};window.PLOTLYENV.BASE_URL=\"https://plot.ly\";Plotly.newPlot(\"e581d4c5-ea90-461c-9f04-728f8b05fd38\", [{\"y\": [\"Outros\", \"Trabalho e Emprego\", \"Minorias e Cidadania\", \"Direitos Humanos\", \"Direito Penal e Processual Penal\", \"Tributa\\u00e7\\u00e3o\"], \"textposition\": \"outside\", \"marker\": {\"color\": \"#00B3E0\"}, \"type\": \"bar\", \"x\": [283, 24, 28, 28, 29, 32], \"orientation\": \"h\", \"text\": [\"Outros\", \"Trabalho e Emprego\", \"Minorias e Cidadania\", \"Direitos Humanos\", \"Direito Penal e Processual Penal\", \"Tributa\\u00e7\\u00e3o\"]}], {\"margin\": {\"pad\": 0, \"t\": 10, \"l\": 20}, \"annotations\": [{\"y\": 0, \"x\": 238, \"font\": {\"family\": \"Lato\", \"size\": 12, \"color\": \"white\"}, \"text\": \"Outros - 283\", \"showarrow\": false}, {\"y\": 0.55, \"x\": 238, \"font\": {\"family\": \"Lato\", \"size\": 12, \"color\": \"rgb(170, 170, 170)\"}, \"text\": \"CONTINUA ->    \", \"showarrow\": false}, {\"y\": 1, \"x\": 19, \"font\": {\"family\": \"Lato\", \"size\": 12, \"color\": \"white\"}, \"text\": \"24\", \"showarrow\": false}, {\"y\": 2, \"x\": 23, \"font\": {\"family\": \"Lato\", \"size\": 12, \"color\": \"white\"}, \"text\": \"28\", \"showarrow\": false}, {\"y\": 3, \"x\": 23, \"font\": {\"family\": \"Lato\", \"size\": 12, \"color\": \"white\"}, \"text\": \"28\", \"showarrow\": false}, {\"y\": 4, \"x\": 24, \"font\": {\"family\": \"Lato\", \"size\": 12, \"color\": \"white\"}, \"text\": \"29\", \"showarrow\": false}, {\"y\": 5, \"x\": 27, \"font\": {\"family\": \"Lato\", \"size\": 12, \"color\": \"white\"}, \"text\": \"32\", \"showarrow\": false}], \"shapes\": [{\"y1\": 6, \"type\": \"line\", \"y0\": -0.5, \"line\": {\"color\": \"rgb(170, 170, 170)\", \"width\": 3, \"dash\": \"dot\"}, \"x1\": 250, \"x0\": 250}], \"yaxis\": {\"showticklabels\": false, \"ticks\": \"\", \"title\": \"Temas\"}, \"xaxis\": {\"tickfont\": {\"family\": \"Lato\", \"size\": 10}, \"ticks\": \"\", \"zeroline\": false, \"title\": \"Quantidade\", \"range\": [0, 250]}}, {\"linkText\": \"Export to plot.ly\", \"showLink\": true})});</script>"
      ],
      "text/vnd.plotly.v1+html": [
       "<div id=\"e581d4c5-ea90-461c-9f04-728f8b05fd38\" style=\"height: 525px; width: 100%;\" class=\"plotly-graph-div\"></div><script type=\"text/javascript\">require([\"plotly\"], function(Plotly) { window.PLOTLYENV=window.PLOTLYENV || {};window.PLOTLYENV.BASE_URL=\"https://plot.ly\";Plotly.newPlot(\"e581d4c5-ea90-461c-9f04-728f8b05fd38\", [{\"y\": [\"Outros\", \"Trabalho e Emprego\", \"Minorias e Cidadania\", \"Direitos Humanos\", \"Direito Penal e Processual Penal\", \"Tributa\\u00e7\\u00e3o\"], \"textposition\": \"outside\", \"marker\": {\"color\": \"#00B3E0\"}, \"type\": \"bar\", \"x\": [283, 24, 28, 28, 29, 32], \"orientation\": \"h\", \"text\": [\"Outros\", \"Trabalho e Emprego\", \"Minorias e Cidadania\", \"Direitos Humanos\", \"Direito Penal e Processual Penal\", \"Tributa\\u00e7\\u00e3o\"]}], {\"margin\": {\"pad\": 0, \"t\": 10, \"l\": 20}, \"annotations\": [{\"y\": 0, \"x\": 238, \"font\": {\"family\": \"Lato\", \"size\": 12, \"color\": \"white\"}, \"text\": \"Outros - 283\", \"showarrow\": false}, {\"y\": 0.55, \"x\": 238, \"font\": {\"family\": \"Lato\", \"size\": 12, \"color\": \"rgb(170, 170, 170)\"}, \"text\": \"CONTINUA ->    \", \"showarrow\": false}, {\"y\": 1, \"x\": 19, \"font\": {\"family\": \"Lato\", \"size\": 12, \"color\": \"white\"}, \"text\": \"24\", \"showarrow\": false}, {\"y\": 2, \"x\": 23, \"font\": {\"family\": \"Lato\", \"size\": 12, \"color\": \"white\"}, \"text\": \"28\", \"showarrow\": false}, {\"y\": 3, \"x\": 23, \"font\": {\"family\": \"Lato\", \"size\": 12, \"color\": \"white\"}, \"text\": \"28\", \"showarrow\": false}, {\"y\": 4, \"x\": 24, \"font\": {\"family\": \"Lato\", \"size\": 12, \"color\": \"white\"}, \"text\": \"29\", \"showarrow\": false}, {\"y\": 5, \"x\": 27, \"font\": {\"family\": \"Lato\", \"size\": 12, \"color\": \"white\"}, \"text\": \"32\", \"showarrow\": false}], \"shapes\": [{\"y1\": 6, \"type\": \"line\", \"y0\": -0.5, \"line\": {\"color\": \"rgb(170, 170, 170)\", \"width\": 3, \"dash\": \"dot\"}, \"x1\": 250, \"x0\": 250}], \"yaxis\": {\"showticklabels\": false, \"ticks\": \"\", \"title\": \"Temas\"}, \"xaxis\": {\"tickfont\": {\"family\": \"Lato\", \"size\": 10}, \"ticks\": \"\", \"zeroline\": false, \"title\": \"Quantidade\", \"range\": [0, 250]}}, {\"linkText\": \"Export to plot.ly\", \"showLink\": true})});</script>"
      ]
     },
     "metadata": {},
     "output_type": "display_data"
    }
   ],
   "source": [
    "idecadastro = 73486\n",
    "#idecadastro = 73584\n",
    "data = requests.get('http://172.16.4.226:5001/temas/{}'.format(idecadastro)).json()\n",
    "if 'data' not in data:\n",
    "#     return None\n",
    "    print('error')\n",
    "data = data['data'][0]\n",
    "data.pop('idecadastro')\n",
    "data.pop('index')\n",
    "\n",
    "sorted_data = sorted(data.items(), key=operator.itemgetter(1))\n",
    "\n",
    "top5 = [i for i in sorted_data if i[1] != 0][-5:]\n",
    "#top5.extend([(' ' * i, 0) for i in range(5 - len(top5))])\n",
    "\n",
    "others = [i for i in sorted_data if i[1] != 0][:-5]\n",
    "full = [('Outros',sum([i[1] for i in others]))] + top5\n",
    "full = tuple(zip(*full))\n",
    "\n",
    "themes, amount = full\n",
    "\n",
    "data = go.Bar(\n",
    "    orientation='h',\n",
    "    y=themes,\n",
    "    x=amount,\n",
    "    #text=['{}<br>{} proposições'.format(i,j) for i,j in zip(themes,amount)],\n",
    "    text=themes,\n",
    "    textposition = 'outside',\n",
    "    marker={'color': \"#00B3E0\"}\n",
    ")\n",
    "\n",
    "annotations = []\n",
    "shapes = []\n",
    "for i in range(len(amount)):\n",
    "    v = amount[i]\n",
    "    if v > 10: l = 5\n",
    "    elif v > 2: l = 2\n",
    "    else: l = 0.5\n",
    "        \n",
    "    if v > 200:\n",
    "        text = '{} - {}'.format(themes[i],v)\n",
    "        annotations.append(dict(\n",
    "            y = i,\n",
    "            x = 250 - len(text),\n",
    "            text = text,\n",
    "            showarrow = False,\n",
    "            font = dict(\n",
    "                color = \"white\",\n",
    "                size = 12,\n",
    "                family='Lato'\n",
    "            ),\n",
    "        ))\n",
    "        annotations.append(dict(\n",
    "            y = i+.55,\n",
    "            x = 250 - len(text),\n",
    "            text = 'CONTINUA ->    ',\n",
    "            showarrow = False,\n",
    "            font = dict(\n",
    "                color = \"rgb(170, 170, 170)\",\n",
    "                size = 12,\n",
    "                family='Lato'\n",
    "            ),\n",
    "        ))\n",
    "        shapes = [{\n",
    "            'type': 'line',\n",
    "            'x0': 250, 'y0': -.5,\n",
    "            'x1': 250, 'y1': 6,\n",
    "            'line': {\n",
    "                'color': 'rgb(170, 170, 170)',\n",
    "                'width': 3,\n",
    "                'dash': 'dot'\n",
    "            }\n",
    "        }]\n",
    "    else:\n",
    "        annotations.append(dict(\n",
    "            y = i,\n",
    "            x = v-l,\n",
    "            text = str(v),\n",
    "            showarrow = False,\n",
    "            font = dict(\n",
    "                color = \"white\",\n",
    "                size = 12,\n",
    "                family='Lato'\n",
    "            ),\n",
    "        ))\n",
    "\n",
    "layout = go.Layout(\n",
    "    margin=go.Margin(\n",
    "        l=20,\n",
    "        t=10,\n",
    "        pad=0\n",
    "    ),\n",
    "    xaxis=dict(\n",
    "        ticks='',\n",
    "        range=[0,250],\n",
    "        tickfont=dict(\n",
    "            size=10,\n",
    "            family='Lato'\n",
    "        ),\n",
    "        zeroline=False,\n",
    "        title='Quantidade'\n",
    "    ),\n",
    "    yaxis=dict(\n",
    "        ticks='',\n",
    "        showticklabels=False,\n",
    "        title='Temas'\n",
    "    ),\n",
    "    annotations=annotations,\n",
    "    shapes=shapes\n",
    ")\n",
    "\n",
    "fig = go.Figure(data=[data], layout=layout)\n",
    "offline.iplot(fig)"
   ]
  },
  {
   "cell_type": "code",
   "execution_count": null,
   "metadata": {},
   "outputs": [],
   "source": []
  }
 ],
 "metadata": {
  "kernelspec": {
   "display_name": "Python 3",
   "language": "python",
   "name": "python3"
  },
  "language_info": {
   "codemirror_mode": {
    "name": "ipython",
    "version": 3
   },
   "file_extension": ".py",
   "mimetype": "text/x-python",
   "name": "python",
   "nbconvert_exporter": "python",
   "pygments_lexer": "ipython3",
   "version": "3.5.2+"
  }
 },
 "nbformat": 4,
 "nbformat_minor": 2
}
