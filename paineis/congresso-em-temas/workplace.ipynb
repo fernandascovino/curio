{
 "cells": [
  {
   "cell_type": "markdown",
   "metadata": {},
   "source": [
    "## **CONGRESSO EM TEMAS** DASH\n",
    "\n",
    "---\n"
   ]
  },
  {
   "cell_type": "code",
   "execution_count": 3,
   "metadata": {
    "collapsed": false
   },
   "outputs": [
    {
     "data": {
      "text/html": [
       "<script>requirejs.config({paths: { 'plotly': ['https://cdn.plot.ly/plotly-latest.min']},});if(!window.Plotly) {{require(['plotly'],function(plotly) {window.Plotly=plotly;});}}</script>"
      ],
      "text/vnd.plotly.v1+html": [
       "<script>requirejs.config({paths: { 'plotly': ['https://cdn.plot.ly/plotly-latest.min']},});if(!window.Plotly) {{require(['plotly'],function(plotly) {window.Plotly=plotly;});}}</script>"
      ]
     },
     "metadata": {},
     "output_type": "display_data"
    },
    {
     "data": {
      "text/plain": [
       "'2.5.0'"
      ]
     },
     "execution_count": 3,
     "metadata": {},
     "output_type": "execute_result"
    }
   ],
   "source": [
    "from sqlalchemy import create_engine\n",
    "import pandas as pd\n",
    "import numpy as np\n",
    "from copy import deepcopy\n",
    "from datetime import datetime\n",
    "from tqdm import tqdm\n",
    "import matplotlib.pyplot as plt\n",
    "from copy import deepcopy\n",
    "%matplotlib inline\n",
    "\n",
    "import plotly\n",
    "import plotly.plotly as py\n",
    "import plotly.graph_objs as go\n",
    "import plotly.offline as offline\n",
    "offline.init_notebook_mode(connected=True)\n",
    "\n",
    "# con = create_engine(server[db_cts])\n",
    "plotly.__version__"
   ]
  },
  {
   "cell_type": "markdown",
   "metadata": {},
   "source": [
    "---\n",
    "\n",
    "## **DATA PREPARATION**"
   ]
  },
  {
   "cell_type": "markdown",
   "metadata": {},
   "source": [
    "### **Propositions**"
   ]
  },
  {
   "cell_type": "markdown",
   "metadata": {},
   "source": [
    "#### Get propositions infos\n",
    "\n",
    "From *proposicoes_id* table. <br>\n",
    "The query request only the propositions which type is PL, PEC, PLV, MPV, PLV or PDC."
   ]
  },
  {
   "cell_type": "code",
   "execution_count": 4,
   "metadata": {
    "collapsed": false
   },
   "outputs": [
    {
     "name": "stdout",
     "output_type": "stream",
     "text": [
      "propositions OK!\n"
     ]
    }
   ],
   "source": [
    "columns = ['idproposicao','nomeproposicao','tema','tipoproposicao',\n",
    "           'dataapresentacao','ementa','indexacao','situacao',\n",
    "           'idecadastro', 'autor','ufautor','regimetramitacao',\n",
    "           'ultimodespacho']\n",
    "\n",
    "query_propositions = \"\"\"\n",
    "SELECT DISTINCT\n",
    "  {}\n",
    "FROM\n",
    "  c_camdep.camdep_proposicoes_id t1,\n",
    "  (SELECT DISTINCT\n",
    "      idproposicao,\n",
    "      max(capnum) OVER (PARTITION BY idproposicao) capnum\n",
    "   FROM\n",
    "      c_camdep.camdep_proposicoes_id) t2\n",
    "WHERE\n",
    "  t1.idproposicao = t2.idproposicao\n",
    "  AND t1.capnum = t2.capnum\n",
    "  AND t1.nomeproposicao SIMILAR TO '(PL|PLP|PLV|MPV|PDC|PEC) %%' \n",
    "  AND t1.dataapresentacao >= '2003-01-01'\n",
    "\"\"\".format(','.join(['t1.' + column for column in columns]))\n",
    "\n",
    "query_results_propositions = pd.read_sql_query(query_propositions,con)\n",
    "print('propositions OK!')"
   ]
  },
  {
   "cell_type": "code",
   "execution_count": 3,
   "metadata": {
    "collapsed": false
   },
   "outputs": [
    {
     "name": "stdout",
     "output_type": "stream",
     "text": [
      "<class 'pandas.core.frame.DataFrame'>\n",
      "RangeIndex: 48978 entries, 0 to 48977\n",
      "Data columns (total 13 columns):\n",
      "idproposicao        48978 non-null int64\n",
      "nomeproposicao      48978 non-null object\n",
      "tema                48776 non-null object\n",
      "tipoproposicao      48978 non-null object\n",
      "dataapresentacao    48978 non-null datetime64[ns]\n",
      "ementa              48978 non-null object\n",
      "indexacao           48709 non-null object\n",
      "situacao            48958 non-null object\n",
      "idecadastro         36790 non-null float64\n",
      "autor               48978 non-null object\n",
      "ufautor             38835 non-null object\n",
      "regimetramitacao    48978 non-null object\n",
      "ultimodespacho      47413 non-null object\n",
      "dtypes: datetime64[ns](1), float64(1), int64(1), object(10)\n",
      "memory usage: 4.9+ MB\n",
      "None\n"
     ]
    },
    {
     "data": {
      "text/html": [
       "<div>\n",
       "<table border=\"1\" class=\"dataframe\">\n",
       "  <thead>\n",
       "    <tr style=\"text-align: right;\">\n",
       "      <th></th>\n",
       "      <th>idproposicao</th>\n",
       "      <th>nomeproposicao</th>\n",
       "      <th>tema</th>\n",
       "      <th>tipoproposicao</th>\n",
       "      <th>dataapresentacao</th>\n",
       "      <th>ementa</th>\n",
       "      <th>indexacao</th>\n",
       "      <th>situacao</th>\n",
       "      <th>idecadastro</th>\n",
       "      <th>autor</th>\n",
       "      <th>ufautor</th>\n",
       "      <th>regimetramitacao</th>\n",
       "      <th>ultimodespacho</th>\n",
       "    </tr>\n",
       "  </thead>\n",
       "  <tbody>\n",
       "    <tr>\n",
       "      <th>0</th>\n",
       "      <td>416576</td>\n",
       "      <td>PL 4334/2008</td>\n",
       "      <td>Indústria, Comércio e Defesa do Consumidor (ut...</td>\n",
       "      <td>Projeto de Lei</td>\n",
       "      <td>2008-11-19</td>\n",
       "      <td>Acrescenta dispositivos da Lei nº 8.078, de 11...</td>\n",
       "      <td>Alteração, Código de Defesa do Consumidor, fix...</td>\n",
       "      <td>MESA - Arquivada</td>\n",
       "      <td>141384.0</td>\n",
       "      <td>Valadares Filho</td>\n",
       "      <td>SE</td>\n",
       "      <td>Urgência art. 155 RICD</td>\n",
       "      <td>Apense-se à(ao) PL-836/2003. Proposição Sujeit...</td>\n",
       "    </tr>\n",
       "    <tr>\n",
       "      <th>1</th>\n",
       "      <td>446624</td>\n",
       "      <td>PL 5848/2009</td>\n",
       "      <td>Indústria, Comércio e Defesa do Consumidor (ut...</td>\n",
       "      <td>Projeto de Lei</td>\n",
       "      <td>2009-08-25</td>\n",
       "      <td>Altera a Lei nº 8.078, de 11 de setembro de 19...</td>\n",
       "      <td>Alteração, Código de Defesa do Consumidor, pra...</td>\n",
       "      <td>MESA - Aguardando Deliberação de Recurso</td>\n",
       "      <td>141401.0</td>\n",
       "      <td>Carlos Bezerra</td>\n",
       "      <td>MT</td>\n",
       "      <td>Ordinária</td>\n",
       "      <td>Às Comissões de  Defesa do Consumidor e  Const...</td>\n",
       "    </tr>\n",
       "  </tbody>\n",
       "</table>\n",
       "</div>"
      ],
      "text/plain": [
       "   idproposicao nomeproposicao  \\\n",
       "0        416576   PL 4334/2008   \n",
       "1        446624   PL 5848/2009   \n",
       "\n",
       "                                                tema  tipoproposicao  \\\n",
       "0  Indústria, Comércio e Defesa do Consumidor (ut...  Projeto de Lei   \n",
       "1  Indústria, Comércio e Defesa do Consumidor (ut...  Projeto de Lei   \n",
       "\n",
       "  dataapresentacao                                             ementa  \\\n",
       "0       2008-11-19  Acrescenta dispositivos da Lei nº 8.078, de 11...   \n",
       "1       2009-08-25  Altera a Lei nº 8.078, de 11 de setembro de 19...   \n",
       "\n",
       "                                           indexacao  \\\n",
       "0  Alteração, Código de Defesa do Consumidor, fix...   \n",
       "1  Alteração, Código de Defesa do Consumidor, pra...   \n",
       "\n",
       "                                   situacao  idecadastro            autor  \\\n",
       "0                          MESA - Arquivada     141384.0  Valadares Filho   \n",
       "1  MESA - Aguardando Deliberação de Recurso     141401.0   Carlos Bezerra   \n",
       "\n",
       "  ufautor        regimetramitacao  \\\n",
       "0      SE  Urgência art. 155 RICD   \n",
       "1      MT               Ordinária   \n",
       "\n",
       "                                      ultimodespacho  \n",
       "0  Apense-se à(ao) PL-836/2003. Proposição Sujeit...  \n",
       "1  Às Comissões de  Defesa do Consumidor e  Const...  "
      ]
     },
     "execution_count": 3,
     "metadata": {},
     "output_type": "execute_result"
    }
   ],
   "source": [
    "propositions = deepcopy(query_results_propositions)\n",
    "print(propositions.info())\n",
    "propositions.head(2)"
   ]
  },
  {
   "cell_type": "markdown",
   "metadata": {},
   "source": [
    "#### Coleting list of themes"
   ]
  },
  {
   "cell_type": "code",
   "execution_count": 4,
   "metadata": {},
   "outputs": [],
   "source": [
    "themes = propositions.loc[~propositions.tema.isnull(),'tema']\n",
    "themes = themes.apply(lambda x: x.replace(' (utilizado até a legislatura 53)',''))\\\n",
    "               .drop_duplicates()\\\n",
    "               .apply(lambda x: x.split(';'))\n",
    "unique_themes = []\n",
    "for i in themes:\n",
    "    for theme in i:\n",
    "        theme = theme.strip(' ')\n",
    "        if theme not in unique_themes:\n",
    "            unique_themes.append(theme)\n",
    "unique_themes.sort()\n",
    "unique_themes = pd.DataFrame(unique_themes,columns=['Tema'])\n",
    "unique_themes.index.name = 'cod_tema'\n",
    "unique_themes.to_csv('themes.csv')"
   ]
  },
  {
   "cell_type": "raw",
   "metadata": {},
   "source": [
    "propositions['cod_themes'] = ''\n",
    "propositions['tema'] = ''\n",
    "themes = pd.read_csv('themes.csv').set_index('cod_theme')\n",
    "\n",
    "for cod_theme in themes.index:\n",
    "    keywords = themes.keywords[cod_theme].replace(',','|')\n",
    "    \n",
    "    boolean = (\n",
    "        propositions.indexacao.str.contains(keywords) \n",
    "        | propositions.ementa.str.contains(keywords)\n",
    "    )\n",
    "    \n",
    "    props_theme = propositions.loc[boolean,'cod_themes']\n",
    "    props_theme[props_theme != ''] += ',' + cod_theme\n",
    "    props_theme[props_theme == ''] = cod_theme\n",
    "    propositions.loc[boolean,'cod_themes'] = props_theme\n",
    "    \n",
    "    props_beaut_theme = propositions.loc[boolean,'tema']\n",
    "    props_beaut_theme[props_beaut_theme != ''] += ', ' + themes.beaut_theme[cod_theme]\n",
    "    props_beaut_theme[props_beaut_theme == ''] = themes.beaut_theme[cod_theme]\n",
    "    propositions.loc[boolean,'tema'] = props_beaut_theme\n",
    "    "
   ]
  },
  {
   "cell_type": "markdown",
   "metadata": {},
   "source": [
    "#### Cataloging propositions by situation\n",
    "\n",
    "Based on analisys produced by Congresso em Números. [Document link here](https://docs.google.com/document/d/1qqcfJMybpvjKJ63i77YcVbIUzUezkTpnnqbBSJmXMT0/edit?usp=sharing)."
   ]
  },
  {
   "cell_type": "code",
   "execution_count": 5,
   "metadata": {
    "collapsed": false
   },
   "outputs": [
    {
     "name": "stderr",
     "output_type": "stream",
     "text": [
      "100%|██████████| 2/2 [00:00<00:00,  8.73it/s]\n"
     ]
    }
   ],
   "source": [
    "propositions['descricao_situacao'] = 'Em tramitação'\n",
    "\n",
    "classification = {\n",
    "    'Aprovada': [\n",
    "        'Tranformada',\n",
    "        'Transformado em Norma Jurídica',    \n",
    "        'Aguardando Apreciação pelo Senado Federal',\n",
    "        'Aguardando Envio ao Senado Federal',\n",
    "        'Enviada ao Senado Federal',\n",
    "        'Aguardando Promulgação',\n",
    "        'Aguardando Apreciação do Veto',\n",
    "        'Aguardando Sanção',\n",
    "        'Aguardando Envio ao Executivo',\n",
    "        'Vetado Totalmente',\n",
    "        'Originou'    \n",
    "    ],\n",
    "    'Arquivada': [\n",
    "        'Arquivada',\n",
    "        'Aguardando Despacho de Arquivamento',\n",
    "        'Aguardando Remessa ao Arquivo',\n",
    "        'Enviada ao arquivo',\n",
    "        'Perdeu a eficácia',\n",
    "        'Transformado em nova proposição'\n",
    "    ]\n",
    "}\n",
    "\n",
    "for situation in tqdm(classification):\n",
    "    sits = '|'.join(classification[situation]) \n",
    "    propositions.loc[propositions['situacao'].str.contains(sits) == True, 'descricao_situacao'] = situation"
   ]
  },
  {
   "cell_type": "code",
   "execution_count": 6,
   "metadata": {
    "collapsed": false
   },
   "outputs": [
    {
     "data": {
      "text/html": [
       "<div>\n",
       "<table border=\"1\" class=\"dataframe\">\n",
       "  <thead>\n",
       "    <tr style=\"text-align: right;\">\n",
       "      <th></th>\n",
       "      <th>idproposicao</th>\n",
       "      <th>nomeproposicao</th>\n",
       "      <th>tema</th>\n",
       "      <th>tipoproposicao</th>\n",
       "      <th>dataapresentacao</th>\n",
       "      <th>ementa</th>\n",
       "      <th>indexacao</th>\n",
       "      <th>situacao</th>\n",
       "      <th>idecadastro</th>\n",
       "      <th>autor</th>\n",
       "      <th>ufautor</th>\n",
       "      <th>regimetramitacao</th>\n",
       "      <th>ultimodespacho</th>\n",
       "      <th>descricao_situacao</th>\n",
       "    </tr>\n",
       "  </thead>\n",
       "  <tbody>\n",
       "    <tr>\n",
       "      <th>0</th>\n",
       "      <td>416576</td>\n",
       "      <td>PL 4334/2008</td>\n",
       "      <td>Indústria, Comércio e Defesa do Consumidor (ut...</td>\n",
       "      <td>Projeto de Lei</td>\n",
       "      <td>2008-11-19</td>\n",
       "      <td>Acrescenta dispositivos da Lei nº 8.078, de 11...</td>\n",
       "      <td>Alteração, Código de Defesa do Consumidor, fix...</td>\n",
       "      <td>MESA - Arquivada</td>\n",
       "      <td>141384.0</td>\n",
       "      <td>Valadares Filho</td>\n",
       "      <td>SE</td>\n",
       "      <td>Urgência art. 155 RICD</td>\n",
       "      <td>Apense-se à(ao) PL-836/2003. Proposição Sujeit...</td>\n",
       "      <td>Arquivada</td>\n",
       "    </tr>\n",
       "    <tr>\n",
       "      <th>1</th>\n",
       "      <td>446624</td>\n",
       "      <td>PL 5848/2009</td>\n",
       "      <td>Indústria, Comércio e Defesa do Consumidor (ut...</td>\n",
       "      <td>Projeto de Lei</td>\n",
       "      <td>2009-08-25</td>\n",
       "      <td>Altera a Lei nº 8.078, de 11 de setembro de 19...</td>\n",
       "      <td>Alteração, Código de Defesa do Consumidor, pra...</td>\n",
       "      <td>MESA - Aguardando Deliberação de Recurso</td>\n",
       "      <td>141401.0</td>\n",
       "      <td>Carlos Bezerra</td>\n",
       "      <td>MT</td>\n",
       "      <td>Ordinária</td>\n",
       "      <td>Às Comissões de  Defesa do Consumidor e  Const...</td>\n",
       "      <td>Em tramitação</td>\n",
       "    </tr>\n",
       "  </tbody>\n",
       "</table>\n",
       "</div>"
      ],
      "text/plain": [
       "   idproposicao nomeproposicao  \\\n",
       "0        416576   PL 4334/2008   \n",
       "1        446624   PL 5848/2009   \n",
       "\n",
       "                                                tema  tipoproposicao  \\\n",
       "0  Indústria, Comércio e Defesa do Consumidor (ut...  Projeto de Lei   \n",
       "1  Indústria, Comércio e Defesa do Consumidor (ut...  Projeto de Lei   \n",
       "\n",
       "  dataapresentacao                                             ementa  \\\n",
       "0       2008-11-19  Acrescenta dispositivos da Lei nº 8.078, de 11...   \n",
       "1       2009-08-25  Altera a Lei nº 8.078, de 11 de setembro de 19...   \n",
       "\n",
       "                                           indexacao  \\\n",
       "0  Alteração, Código de Defesa do Consumidor, fix...   \n",
       "1  Alteração, Código de Defesa do Consumidor, pra...   \n",
       "\n",
       "                                   situacao  idecadastro            autor  \\\n",
       "0                          MESA - Arquivada     141384.0  Valadares Filho   \n",
       "1  MESA - Aguardando Deliberação de Recurso     141401.0   Carlos Bezerra   \n",
       "\n",
       "  ufautor        regimetramitacao  \\\n",
       "0      SE  Urgência art. 155 RICD   \n",
       "1      MT               Ordinária   \n",
       "\n",
       "                                      ultimodespacho descricao_situacao  \n",
       "0  Apense-se à(ao) PL-836/2003. Proposição Sujeit...          Arquivada  \n",
       "1  Às Comissões de  Defesa do Consumidor e  Const...      Em tramitação  "
      ]
     },
     "execution_count": 6,
     "metadata": {},
     "output_type": "execute_result"
    }
   ],
   "source": [
    "propositions.head(2)"
   ]
  },
  {
   "cell_type": "markdown",
   "metadata": {},
   "source": [
    "#### Get proceedings of propositions\n",
    "\n",
    "From *proposicoes_tramitadas_periodo* table. <br>\n",
    "The query request only the last proceeding of each proposition. \n",
    "\n"
   ]
  },
  {
   "cell_type": "raw",
   "metadata": {},
   "source": [
    "query_tramitacoes = \"\"\"\n",
    "SELECT DISTINCT\n",
    "  t1.\"idProposicao\" idproposicao, \n",
    "  t1.datatramitacao, \n",
    "  t1.\"descricaoTramitacao\", \n",
    "  t1.\"siglaOrgao\"\n",
    "FROM\n",
    "  viz_congresso_tramitacao.proposicoes_tramitadas t1,\n",
    "  (SELECT\n",
    "     DISTINCT (\"idProposicao\") idproposicao,\n",
    "     max(sequencia) OVER (PARTITION BY \"idProposicao\") sequencia\n",
    "   FROM\n",
    "     viz_congresso_tramitacao.proposicoes_tramitadas\n",
    "   WHERE\n",
    "     \"descricaoTramitacao\" != 'Não Informado') t2\n",
    "WHERE \n",
    "  t1.sequencia = t2.sequencia \n",
    "  AND t1.\"idProposicao\" = t2.idproposicao\n",
    "  AND t1.\"datatramitacao\" > '1988-10-05';\n",
    "\"\"\"\n",
    "tramitacoes = pd.read_sql_query(query_tramitacoes,con)\n",
    "tramitacoes = tramitacoes.set_index('idproposicao')"
   ]
  },
  {
   "cell_type": "markdown",
   "metadata": {},
   "source": [
    "#### While we can't use *proposicoes_andamento*, let's query table *proposicoes_tramitadas_periodo* "
   ]
  },
  {
   "cell_type": "code",
   "execution_count": 7,
   "metadata": {
    "collapsed": false
   },
   "outputs": [
    {
     "data": {
      "text/html": [
       "<div>\n",
       "<table border=\"1\" class=\"dataframe\">\n",
       "  <thead>\n",
       "    <tr style=\"text-align: right;\">\n",
       "      <th></th>\n",
       "      <th>idproposicao</th>\n",
       "      <th>data_ultima_tramitacao</th>\n",
       "    </tr>\n",
       "  </thead>\n",
       "  <tbody>\n",
       "    <tr>\n",
       "      <th>0</th>\n",
       "      <td>12666</td>\n",
       "      <td>2012-07-31</td>\n",
       "    </tr>\n",
       "    <tr>\n",
       "      <th>1</th>\n",
       "      <td>12669</td>\n",
       "      <td>2007-04-02</td>\n",
       "    </tr>\n",
       "  </tbody>\n",
       "</table>\n",
       "</div>"
      ],
      "text/plain": [
       "   idproposicao data_ultima_tramitacao\n",
       "0         12666             2012-07-31\n",
       "1         12669             2007-04-02"
      ]
     },
     "execution_count": 7,
     "metadata": {},
     "output_type": "execute_result"
    }
   ],
   "source": [
    "query_proceedings = \"\"\"\n",
    "SELECT DISTINCT\n",
    "  codproposicao idproposicao,\n",
    "  max(datatramitacao) OVER (PARTITION BY codproposicao) data_ultima_tramitacao\n",
    "FROM\n",
    "  viz_congresso_tramitacao.proposicoes_tramitadas_periodo\n",
    "WHERE \n",
    "  datatramitacao  >= '2003-01-01'\n",
    "\"\"\"\n",
    "\n",
    "proceedings = pd.read_sql_query(query_proceedings,con)\n",
    "proceedings.head(2)"
   ]
  },
  {
   "cell_type": "code",
   "execution_count": 8,
   "metadata": {
    "collapsed": false
   },
   "outputs": [
    {
     "name": "stdout",
     "output_type": "stream",
     "text": [
      "<class 'pandas.core.frame.DataFrame'>\n",
      "Int64Index: 48978 entries, 0 to 48977\n",
      "Data columns (total 15 columns):\n",
      "idproposicao              48978 non-null int64\n",
      "nomeproposicao            48978 non-null object\n",
      "tema                      48776 non-null object\n",
      "tipoproposicao            48978 non-null object\n",
      "dataapresentacao          48978 non-null datetime64[ns]\n",
      "ementa                    48978 non-null object\n",
      "indexacao                 48709 non-null object\n",
      "situacao                  48958 non-null object\n",
      "idecadastro               36790 non-null float64\n",
      "autor                     48978 non-null object\n",
      "ufautor                   38835 non-null object\n",
      "regimetramitacao          48978 non-null object\n",
      "ultimodespacho            47413 non-null object\n",
      "descricao_situacao        48978 non-null object\n",
      "data_ultima_tramitacao    46734 non-null datetime64[ns]\n",
      "dtypes: datetime64[ns](2), float64(1), int64(1), object(11)\n",
      "memory usage: 6.0+ MB\n",
      "None\n"
     ]
    },
    {
     "data": {
      "text/html": [
       "<div>\n",
       "<table border=\"1\" class=\"dataframe\">\n",
       "  <thead>\n",
       "    <tr style=\"text-align: right;\">\n",
       "      <th></th>\n",
       "      <th>idproposicao</th>\n",
       "      <th>nomeproposicao</th>\n",
       "      <th>tema</th>\n",
       "      <th>tipoproposicao</th>\n",
       "      <th>dataapresentacao</th>\n",
       "      <th>ementa</th>\n",
       "      <th>indexacao</th>\n",
       "      <th>situacao</th>\n",
       "      <th>idecadastro</th>\n",
       "      <th>autor</th>\n",
       "      <th>ufautor</th>\n",
       "      <th>regimetramitacao</th>\n",
       "      <th>ultimodespacho</th>\n",
       "      <th>descricao_situacao</th>\n",
       "      <th>data_ultima_tramitacao</th>\n",
       "    </tr>\n",
       "  </thead>\n",
       "  <tbody>\n",
       "    <tr>\n",
       "      <th>0</th>\n",
       "      <td>416576</td>\n",
       "      <td>PL 4334/2008</td>\n",
       "      <td>Indústria, Comércio e Defesa do Consumidor (ut...</td>\n",
       "      <td>Projeto de Lei</td>\n",
       "      <td>2008-11-19</td>\n",
       "      <td>Acrescenta dispositivos da Lei nº 8.078, de 11...</td>\n",
       "      <td>Alteração, Código de Defesa do Consumidor, fix...</td>\n",
       "      <td>MESA - Arquivada</td>\n",
       "      <td>141384.0</td>\n",
       "      <td>Valadares Filho</td>\n",
       "      <td>SE</td>\n",
       "      <td>Urgência art. 155 RICD</td>\n",
       "      <td>Apense-se à(ao) PL-836/2003. Proposição Sujeit...</td>\n",
       "      <td>Arquivada</td>\n",
       "      <td>2009-05-19</td>\n",
       "    </tr>\n",
       "    <tr>\n",
       "      <th>1</th>\n",
       "      <td>446624</td>\n",
       "      <td>PL 5848/2009</td>\n",
       "      <td>Indústria, Comércio e Defesa do Consumidor (ut...</td>\n",
       "      <td>Projeto de Lei</td>\n",
       "      <td>2009-08-25</td>\n",
       "      <td>Altera a Lei nº 8.078, de 11 de setembro de 19...</td>\n",
       "      <td>Alteração, Código de Defesa do Consumidor, pra...</td>\n",
       "      <td>MESA - Aguardando Deliberação de Recurso</td>\n",
       "      <td>141401.0</td>\n",
       "      <td>Carlos Bezerra</td>\n",
       "      <td>MT</td>\n",
       "      <td>Ordinária</td>\n",
       "      <td>Às Comissões de  Defesa do Consumidor e  Const...</td>\n",
       "      <td>Em tramitação</td>\n",
       "      <td>2011-05-31</td>\n",
       "    </tr>\n",
       "  </tbody>\n",
       "</table>\n",
       "</div>"
      ],
      "text/plain": [
       "   idproposicao nomeproposicao  \\\n",
       "0        416576   PL 4334/2008   \n",
       "1        446624   PL 5848/2009   \n",
       "\n",
       "                                                tema  tipoproposicao  \\\n",
       "0  Indústria, Comércio e Defesa do Consumidor (ut...  Projeto de Lei   \n",
       "1  Indústria, Comércio e Defesa do Consumidor (ut...  Projeto de Lei   \n",
       "\n",
       "  dataapresentacao                                             ementa  \\\n",
       "0       2008-11-19  Acrescenta dispositivos da Lei nº 8.078, de 11...   \n",
       "1       2009-08-25  Altera a Lei nº 8.078, de 11 de setembro de 19...   \n",
       "\n",
       "                                           indexacao  \\\n",
       "0  Alteração, Código de Defesa do Consumidor, fix...   \n",
       "1  Alteração, Código de Defesa do Consumidor, pra...   \n",
       "\n",
       "                                   situacao  idecadastro            autor  \\\n",
       "0                          MESA - Arquivada     141384.0  Valadares Filho   \n",
       "1  MESA - Aguardando Deliberação de Recurso     141401.0   Carlos Bezerra   \n",
       "\n",
       "  ufautor        regimetramitacao  \\\n",
       "0      SE  Urgência art. 155 RICD   \n",
       "1      MT               Ordinária   \n",
       "\n",
       "                                      ultimodespacho descricao_situacao  \\\n",
       "0  Apense-se à(ao) PL-836/2003. Proposição Sujeit...          Arquivada   \n",
       "1  Às Comissões de  Defesa do Consumidor e  Const...      Em tramitação   \n",
       "\n",
       "  data_ultima_tramitacao  \n",
       "0             2009-05-19  \n",
       "1             2011-05-31  "
      ]
     },
     "execution_count": 8,
     "metadata": {},
     "output_type": "execute_result"
    }
   ],
   "source": [
    "propositions = propositions.merge(proceedings, on='idproposicao', how='left')\n",
    "print(propositions.info())\n",
    "propositions.head(2)"
   ]
  },
  {
   "cell_type": "markdown",
   "metadata": {},
   "source": [
    "There is a small problem: Some propositions aren't in *proposicoes_tramitadas_periodo*. After a simple verification, appear that it's a error from Câmara dos Deputados API.\n",
    "\n",
    "**We will need to decide what we should do.**"
   ]
  },
  {
   "cell_type": "code",
   "execution_count": 9,
   "metadata": {
    "collapsed": true
   },
   "outputs": [],
   "source": [
    "propositions.to_sql('proposicoes',con,schema='viz_painel_temas',if_exists='replace')\n",
    "#propositions.to_sql('proposicoes',con,schema='viz_painel_temas',if_exists='fail')"
   ]
  },
  {
   "cell_type": "markdown",
   "metadata": {},
   "source": [
    "<a id=#Congressmen></a>\n",
    "### **Congressmen**"
   ]
  },
  {
   "cell_type": "markdown",
   "metadata": {},
   "source": [
    "#### Get congressmen infos\n",
    "\n",
    "From *camdep_deputatdos_historico* table."
   ]
  },
  {
   "cell_type": "code",
   "execution_count": 10,
   "metadata": {
    "collapsed": false
   },
   "outputs": [],
   "source": [
    "columns = ['idecadastro', 'numlegislatura', 'nomeparlamentar',\n",
    "           'sexo', 'legendapartidoeleito', 'condicao', \n",
    "           'situacaomandato', 'ufeleito']\n",
    "\n",
    "query_congressmen = \"\"\"\n",
    "    SELECT\n",
    "        {}\n",
    "    FROM\n",
    "        c_camdep.camdep_deputados_historico\n",
    "    \n",
    "\"\"\".format(','.join(columns))\n",
    "\n",
    "query_results_congressmen = pd.read_sql_query(query_congressmen,con)"
   ]
  },
  {
   "cell_type": "code",
   "execution_count": 11,
   "metadata": {
    "collapsed": false
   },
   "outputs": [
    {
     "name": "stdout",
     "output_type": "stream",
     "text": [
      "<class 'pandas.core.frame.DataFrame'>\n",
      "RangeIndex: 2481 entries, 0 to 2480\n",
      "Data columns (total 8 columns):\n",
      "idecadastro             2481 non-null int64\n",
      "numlegislatura          2481 non-null int64\n",
      "nomeparlamentar         2481 non-null object\n",
      "sexo                    2481 non-null object\n",
      "legendapartidoeleito    2481 non-null object\n",
      "condicao                2481 non-null object\n",
      "situacaomandato         2481 non-null object\n",
      "ufeleito                2481 non-null object\n",
      "dtypes: int64(2), object(6)\n",
      "memory usage: 155.1+ KB\n",
      "None\n"
     ]
    },
    {
     "data": {
      "text/html": [
       "<div>\n",
       "<table border=\"1\" class=\"dataframe\">\n",
       "  <thead>\n",
       "    <tr style=\"text-align: right;\">\n",
       "      <th></th>\n",
       "      <th>idecadastro</th>\n",
       "      <th>numlegislatura</th>\n",
       "      <th>nomeparlamentar</th>\n",
       "      <th>sexo</th>\n",
       "      <th>legendapartidoeleito</th>\n",
       "      <th>condicao</th>\n",
       "      <th>situacaomandato</th>\n",
       "      <th>ufeleito</th>\n",
       "    </tr>\n",
       "  </thead>\n",
       "  <tbody>\n",
       "    <tr>\n",
       "      <th>0</th>\n",
       "      <td>178957</td>\n",
       "      <td>55</td>\n",
       "      <td>ABEL MESQUITA JR.</td>\n",
       "      <td>M</td>\n",
       "      <td>PDT</td>\n",
       "      <td>Titular</td>\n",
       "      <td>Em Exercício</td>\n",
       "      <td>RR</td>\n",
       "    </tr>\n",
       "    <tr>\n",
       "      <th>1</th>\n",
       "      <td>141463</td>\n",
       "      <td>53</td>\n",
       "      <td>ABELARDO CAMARINHA</td>\n",
       "      <td>M</td>\n",
       "      <td>PSB</td>\n",
       "      <td>Titular</td>\n",
       "      <td>Em Exercício</td>\n",
       "      <td>SP</td>\n",
       "    </tr>\n",
       "  </tbody>\n",
       "</table>\n",
       "</div>"
      ],
      "text/plain": [
       "   idecadastro  numlegislatura     nomeparlamentar sexo legendapartidoeleito  \\\n",
       "0       178957              55   ABEL MESQUITA JR.    M                  PDT   \n",
       "1       141463              53  ABELARDO CAMARINHA    M                  PSB   \n",
       "\n",
       "  condicao situacaomandato ufeleito  \n",
       "0  Titular    Em Exercício       RR  \n",
       "1  Titular    Em Exercício       SP  "
      ]
     },
     "execution_count": 11,
     "metadata": {},
     "output_type": "execute_result"
    }
   ],
   "source": [
    "congressmen = deepcopy(query_results_congressmen)\n",
    "print(congressmen.info())\n",
    "congressmen.head(2)"
   ]
  },
  {
   "cell_type": "markdown",
   "metadata": {},
   "source": [
    "#### Get url pictures\n",
    "\n",
    "From *br_camdep_v2.deputados* table."
   ]
  },
  {
   "cell_type": "code",
   "execution_count": 12,
   "metadata": {
    "collapsed": false
   },
   "outputs": [
    {
     "data": {
      "text/html": [
       "<div>\n",
       "<table border=\"1\" class=\"dataframe\">\n",
       "  <thead>\n",
       "    <tr style=\"text-align: right;\">\n",
       "      <th></th>\n",
       "      <th>idecadastro</th>\n",
       "      <th>urlfoto</th>\n",
       "    </tr>\n",
       "  </thead>\n",
       "  <tbody>\n",
       "    <tr>\n",
       "      <th>0</th>\n",
       "      <td>178957</td>\n",
       "      <td>http://www.camara.leg.br/internet/deputado/ban...</td>\n",
       "    </tr>\n",
       "    <tr>\n",
       "      <th>1</th>\n",
       "      <td>141463</td>\n",
       "      <td>http://www.camara.leg.br/internet/deputado/ban...</td>\n",
       "    </tr>\n",
       "  </tbody>\n",
       "</table>\n",
       "</div>"
      ],
      "text/plain": [
       "   idecadastro                                            urlfoto\n",
       "0       178957  http://www.camara.leg.br/internet/deputado/ban...\n",
       "1       141463  http://www.camara.leg.br/internet/deputado/ban..."
      ]
     },
     "execution_count": 12,
     "metadata": {},
     "output_type": "execute_result"
    }
   ],
   "source": [
    "columns = ['idecadastro', 'urlfoto']\n",
    "\n",
    "query_pictures = \"\"\"\n",
    "SELECT\n",
    "    {}\n",
    "  FROM\n",
    "    br_camdep_v2.deputados\n",
    "\"\"\".format(','.join(columns))\n",
    "\n",
    "pictures = pd.read_sql_query(query_pictures,con)\n",
    "pictures.head(2)"
   ]
  },
  {
   "cell_type": "code",
   "execution_count": 13,
   "metadata": {
    "collapsed": false
   },
   "outputs": [
    {
     "data": {
      "text/html": [
       "<div>\n",
       "<table border=\"1\" class=\"dataframe\">\n",
       "  <thead>\n",
       "    <tr style=\"text-align: right;\">\n",
       "      <th></th>\n",
       "      <th>idecadastro</th>\n",
       "      <th>numlegislatura</th>\n",
       "      <th>nomeparlamentar</th>\n",
       "      <th>sexo</th>\n",
       "      <th>legendapartidoeleito</th>\n",
       "      <th>condicao</th>\n",
       "      <th>situacaomandato</th>\n",
       "      <th>ufeleito</th>\n",
       "      <th>urlfoto</th>\n",
       "    </tr>\n",
       "  </thead>\n",
       "  <tbody>\n",
       "    <tr>\n",
       "      <th>0</th>\n",
       "      <td>178957</td>\n",
       "      <td>55</td>\n",
       "      <td>ABEL MESQUITA JR.</td>\n",
       "      <td>M</td>\n",
       "      <td>PDT</td>\n",
       "      <td>Titular</td>\n",
       "      <td>Em Exercício</td>\n",
       "      <td>RR</td>\n",
       "      <td>http://www.camara.leg.br/internet/deputado/ban...</td>\n",
       "    </tr>\n",
       "    <tr>\n",
       "      <th>1</th>\n",
       "      <td>141463</td>\n",
       "      <td>53</td>\n",
       "      <td>ABELARDO CAMARINHA</td>\n",
       "      <td>M</td>\n",
       "      <td>PSB</td>\n",
       "      <td>Titular</td>\n",
       "      <td>Em Exercício</td>\n",
       "      <td>SP</td>\n",
       "      <td>http://www.camara.leg.br/internet/deputado/ban...</td>\n",
       "    </tr>\n",
       "  </tbody>\n",
       "</table>\n",
       "</div>"
      ],
      "text/plain": [
       "   idecadastro  numlegislatura     nomeparlamentar sexo legendapartidoeleito  \\\n",
       "0       178957              55   ABEL MESQUITA JR.    M                  PDT   \n",
       "1       141463              53  ABELARDO CAMARINHA    M                  PSB   \n",
       "\n",
       "  condicao situacaomandato ufeleito  \\\n",
       "0  Titular    Em Exercício       RR   \n",
       "1  Titular    Em Exercício       SP   \n",
       "\n",
       "                                             urlfoto  \n",
       "0  http://www.camara.leg.br/internet/deputado/ban...  \n",
       "1  http://www.camara.leg.br/internet/deputado/ban...  "
      ]
     },
     "execution_count": 13,
     "metadata": {},
     "output_type": "execute_result"
    }
   ],
   "source": [
    "congressmen = congressmen.merge(\n",
    "    pictures, left_on='idecadastro', right_on='idecadastro', how='left'\n",
    ").drop_duplicates()\n",
    "congressmen.head(2)"
   ]
  },
  {
   "cell_type": "code",
   "execution_count": 14,
   "metadata": {
    "collapsed": true
   },
   "outputs": [],
   "source": [
    "congressmen.to_sql('deputados',con,schema='viz_painel_temas',if_exists='replace')"
   ]
  },
  {
   "cell_type": "markdown",
   "metadata": {},
   "source": [
    "### **Political Parties**"
   ]
  },
  {
   "cell_type": "markdown",
   "metadata": {},
   "source": [
    "#### Get political parties full names\n",
    "\n",
    "From *camdep_partidos* table."
   ]
  },
  {
   "cell_type": "code",
   "execution_count": 15,
   "metadata": {
    "collapsed": true
   },
   "outputs": [],
   "source": [
    "query_parties = \"SELECT DISTINCT idpartido, nomepartido FROM c_camdep.camdep_partidos\"\n",
    "parties = pd.read_sql_query(query_parties,con).set_index('idpartido')\n",
    "parties.to_sql('partidos', con, schema='viz_painel_temas', if_exists='replace')"
   ]
  },
  {
   "cell_type": "markdown",
   "metadata": {},
   "source": [
    "---\n",
    "\n",
    "## **TABLES' FILTERS**"
   ]
  },
  {
   "cell_type": "markdown",
   "metadata": {},
   "source": [
    "### Propositions table's filter"
   ]
  },
  {
   "cell_type": "code",
   "execution_count": 16,
   "metadata": {
    "collapsed": true
   },
   "outputs": [],
   "source": [
    "def propositions_filter(themes_list, years_range):\n",
    "    \"\"\"\n",
    "    Return a json generated by the propositions table filtered by the params.\n",
    "    :param themes_list: list - Themes of propositions\n",
    "    :param years_range: list - Years range of propositions\n",
    "    :return: str(json)\n",
    "    \"\"\"\n",
    "    print('### FILTERING PROPOSITIONS ###')\n",
    "\n",
    "    if len(themes_list) > 0:\n",
    "        st = '({}) AND'\n",
    "        sql_theme_filter = st.format(\" OR \".join([\"cod_themes LIKE '%%{}%%'\".format(theme) for theme in themes_list]))\n",
    "    else:\n",
    "        sql_theme_filter = ''\n",
    "\n",
    "    query = \"\"\"\n",
    "    SELECT\n",
    "        *\n",
    "    FROM\n",
    "        viz_painel_temas.proposicoes\n",
    "    WHERE\n",
    "        {themes}\n",
    "        (\n",
    "          EXTRACT(YEAR FROM dataapresentacao) <= {y1}\n",
    "          AND (\n",
    "            descricao_situacao = 'Em Tramitação'\n",
    "            OR (\n",
    "              descricao_situacao != 'Em Tramitação'\n",
    "              AND EXTRACT(YEAR FROM data_ultima_tramitacao) >= {y0}\n",
    "            )\n",
    "          )\n",
    "        )\n",
    "    \"\"\".format(themes=sql_theme_filter, y0=years_range[0], y1=years_range[1])\n",
    "\n",
    "    df = pd.read_sql_query(query, con)\n",
    "    df_json = df.to_json(date_format='iso', orient='split')\n",
    "\n",
    "    print('### DONE ###')\n",
    "    return df_json"
   ]
  },
  {
   "cell_type": "code",
   "execution_count": 17,
   "metadata": {
    "collapsed": false
   },
   "outputs": [
    {
     "name": "stdout",
     "output_type": "stream",
     "text": [
      "### FILTERING PROPOSITIONS ###\n"
     ]
    },
    {
     "ename": "ProgrammingError",
     "evalue": "(psycopg2.ProgrammingError) column \"cod_themes\" does not exist\nLINE 7:         (cod_themes LIKE '%saude%') AND\n                 ^\n [SQL: \"\\n    SELECT\\n        *\\n    FROM\\n        viz_painel_temas.proposicoes\\n    WHERE\\n        (cod_themes LIKE '%%saude%%') AND\\n        (\\n          EXTRACT(YEAR FROM dataapresentacao) <= 2018\\n          AND (\\n            descricao_situacao = 'Em Tramitação'\\n            OR (\\n              descricao_situacao != 'Em Tramitação'\\n              AND EXTRACT(YEAR FROM data_ultima_tramitacao) >= 2014\\n            )\\n          )\\n        )\\n    \"]",
     "output_type": "error",
     "traceback": [
      "\u001b[0;31m---------------------------------------------------------------------------\u001b[0m",
      "\u001b[0;31mProgrammingError\u001b[0m                          Traceback (most recent call last)",
      "\u001b[0;32m/usr/local/lib/python3.5/dist-packages/sqlalchemy/engine/base.py\u001b[0m in \u001b[0;36m_execute_context\u001b[0;34m(self, dialect, constructor, statement, parameters, *args)\u001b[0m\n\u001b[1;32m   1181\u001b[0m                         \u001b[0mparameters\u001b[0m\u001b[0;34m,\u001b[0m\u001b[0;34m\u001b[0m\u001b[0m\n\u001b[0;32m-> 1182\u001b[0;31m                         context)\n\u001b[0m\u001b[1;32m   1183\u001b[0m         \u001b[0;32mexcept\u001b[0m \u001b[0mBaseException\u001b[0m \u001b[0;32mas\u001b[0m \u001b[0me\u001b[0m\u001b[0;34m:\u001b[0m\u001b[0;34m\u001b[0m\u001b[0m\n",
      "\u001b[0;32m/usr/local/lib/python3.5/dist-packages/sqlalchemy/engine/default.py\u001b[0m in \u001b[0;36mdo_execute\u001b[0;34m(self, cursor, statement, parameters, context)\u001b[0m\n\u001b[1;32m    469\u001b[0m     \u001b[0;32mdef\u001b[0m \u001b[0mdo_execute\u001b[0m\u001b[0;34m(\u001b[0m\u001b[0mself\u001b[0m\u001b[0;34m,\u001b[0m \u001b[0mcursor\u001b[0m\u001b[0;34m,\u001b[0m \u001b[0mstatement\u001b[0m\u001b[0;34m,\u001b[0m \u001b[0mparameters\u001b[0m\u001b[0;34m,\u001b[0m \u001b[0mcontext\u001b[0m\u001b[0;34m=\u001b[0m\u001b[0;32mNone\u001b[0m\u001b[0;34m)\u001b[0m\u001b[0;34m:\u001b[0m\u001b[0;34m\u001b[0m\u001b[0m\n\u001b[0;32m--> 470\u001b[0;31m         \u001b[0mcursor\u001b[0m\u001b[0;34m.\u001b[0m\u001b[0mexecute\u001b[0m\u001b[0;34m(\u001b[0m\u001b[0mstatement\u001b[0m\u001b[0;34m,\u001b[0m \u001b[0mparameters\u001b[0m\u001b[0;34m)\u001b[0m\u001b[0;34m\u001b[0m\u001b[0m\n\u001b[0m\u001b[1;32m    471\u001b[0m \u001b[0;34m\u001b[0m\u001b[0m\n",
      "\u001b[0;31mProgrammingError\u001b[0m: column \"cod_themes\" does not exist\nLINE 7:         (cod_themes LIKE '%saude%') AND\n                 ^\n",
      "\nThe above exception was the direct cause of the following exception:\n",
      "\u001b[0;31mProgrammingError\u001b[0m                          Traceback (most recent call last)",
      "\u001b[0;32m<ipython-input-17-25b1e341c02b>\u001b[0m in \u001b[0;36m<module>\u001b[0;34m()\u001b[0m\n\u001b[1;32m      1\u001b[0m \u001b[0myears_range\u001b[0m \u001b[0;34m=\u001b[0m \u001b[0;34m[\u001b[0m\u001b[0;36m2014\u001b[0m\u001b[0;34m,\u001b[0m\u001b[0;36m2018\u001b[0m\u001b[0;34m]\u001b[0m\u001b[0;34m\u001b[0m\u001b[0m\n\u001b[0;32m----> 2\u001b[0;31m \u001b[0mtest\u001b[0m \u001b[0;34m=\u001b[0m \u001b[0mpropositions_filter\u001b[0m\u001b[0;34m(\u001b[0m\u001b[0;34m[\u001b[0m\u001b[0;34m'saude'\u001b[0m\u001b[0;34m]\u001b[0m\u001b[0;34m,\u001b[0m\u001b[0myears_range\u001b[0m\u001b[0;34m)\u001b[0m\u001b[0;34m\u001b[0m\u001b[0m\n\u001b[0m\u001b[1;32m      3\u001b[0m \u001b[0mprint\u001b[0m\u001b[0;34m(\u001b[0m\u001b[0mtype\u001b[0m\u001b[0;34m(\u001b[0m\u001b[0mtest\u001b[0m\u001b[0;34m)\u001b[0m\u001b[0;34m)\u001b[0m\u001b[0;34m\u001b[0m\u001b[0m\n\u001b[1;32m      4\u001b[0m \u001b[0mtest2\u001b[0m \u001b[0;34m=\u001b[0m \u001b[0mpd\u001b[0m\u001b[0;34m.\u001b[0m\u001b[0mread_json\u001b[0m\u001b[0;34m(\u001b[0m\u001b[0mtest\u001b[0m\u001b[0;34m,\u001b[0m\u001b[0morient\u001b[0m\u001b[0;34m=\u001b[0m\u001b[0;34m'split'\u001b[0m\u001b[0;34m)\u001b[0m\u001b[0;34m\u001b[0m\u001b[0m\n\u001b[1;32m      5\u001b[0m \u001b[0mtest2\u001b[0m\u001b[0;34m.\u001b[0m\u001b[0mhead\u001b[0m\u001b[0;34m(\u001b[0m\u001b[0;36m2\u001b[0m\u001b[0;34m)\u001b[0m\u001b[0;34m\u001b[0m\u001b[0m\n",
      "\u001b[0;32m<ipython-input-16-a95af15a82f0>\u001b[0m in \u001b[0;36mpropositions_filter\u001b[0;34m(themes_list, years_range)\u001b[0m\n\u001b[1;32m     33\u001b[0m     \"\"\".format(themes=sql_theme_filter, y0=years_range[0], y1=years_range[1])\n\u001b[1;32m     34\u001b[0m \u001b[0;34m\u001b[0m\u001b[0m\n\u001b[0;32m---> 35\u001b[0;31m     \u001b[0mdf\u001b[0m \u001b[0;34m=\u001b[0m \u001b[0mpd\u001b[0m\u001b[0;34m.\u001b[0m\u001b[0mread_sql_query\u001b[0m\u001b[0;34m(\u001b[0m\u001b[0mquery\u001b[0m\u001b[0;34m,\u001b[0m \u001b[0mcon\u001b[0m\u001b[0;34m)\u001b[0m\u001b[0;34m\u001b[0m\u001b[0m\n\u001b[0m\u001b[1;32m     36\u001b[0m     \u001b[0mdf_json\u001b[0m \u001b[0;34m=\u001b[0m \u001b[0mdf\u001b[0m\u001b[0;34m.\u001b[0m\u001b[0mto_json\u001b[0m\u001b[0;34m(\u001b[0m\u001b[0mdate_format\u001b[0m\u001b[0;34m=\u001b[0m\u001b[0;34m'iso'\u001b[0m\u001b[0;34m,\u001b[0m \u001b[0morient\u001b[0m\u001b[0;34m=\u001b[0m\u001b[0;34m'split'\u001b[0m\u001b[0;34m)\u001b[0m\u001b[0;34m\u001b[0m\u001b[0m\n\u001b[1;32m     37\u001b[0m \u001b[0;34m\u001b[0m\u001b[0m\n",
      "\u001b[0;32m/home/alifer/.local/lib/python3.5/site-packages/pandas/io/sql.py\u001b[0m in \u001b[0;36mread_sql_query\u001b[0;34m(sql, con, index_col, coerce_float, params, parse_dates, chunksize)\u001b[0m\n\u001b[1;32m    329\u001b[0m     return pandas_sql.read_query(\n\u001b[1;32m    330\u001b[0m         \u001b[0msql\u001b[0m\u001b[0;34m,\u001b[0m \u001b[0mindex_col\u001b[0m\u001b[0;34m=\u001b[0m\u001b[0mindex_col\u001b[0m\u001b[0;34m,\u001b[0m \u001b[0mparams\u001b[0m\u001b[0;34m=\u001b[0m\u001b[0mparams\u001b[0m\u001b[0;34m,\u001b[0m \u001b[0mcoerce_float\u001b[0m\u001b[0;34m=\u001b[0m\u001b[0mcoerce_float\u001b[0m\u001b[0;34m,\u001b[0m\u001b[0;34m\u001b[0m\u001b[0m\n\u001b[0;32m--> 331\u001b[0;31m         parse_dates=parse_dates, chunksize=chunksize)\n\u001b[0m\u001b[1;32m    332\u001b[0m \u001b[0;34m\u001b[0m\u001b[0m\n\u001b[1;32m    333\u001b[0m \u001b[0;34m\u001b[0m\u001b[0m\n",
      "\u001b[0;32m/home/alifer/.local/lib/python3.5/site-packages/pandas/io/sql.py\u001b[0m in \u001b[0;36mread_query\u001b[0;34m(self, sql, index_col, coerce_float, parse_dates, params, chunksize)\u001b[0m\n\u001b[1;32m   1082\u001b[0m         \u001b[0margs\u001b[0m \u001b[0;34m=\u001b[0m \u001b[0m_convert_params\u001b[0m\u001b[0;34m(\u001b[0m\u001b[0msql\u001b[0m\u001b[0;34m,\u001b[0m \u001b[0mparams\u001b[0m\u001b[0;34m)\u001b[0m\u001b[0;34m\u001b[0m\u001b[0m\n\u001b[1;32m   1083\u001b[0m \u001b[0;34m\u001b[0m\u001b[0m\n\u001b[0;32m-> 1084\u001b[0;31m         \u001b[0mresult\u001b[0m \u001b[0;34m=\u001b[0m \u001b[0mself\u001b[0m\u001b[0;34m.\u001b[0m\u001b[0mexecute\u001b[0m\u001b[0;34m(\u001b[0m\u001b[0;34m*\u001b[0m\u001b[0margs\u001b[0m\u001b[0;34m)\u001b[0m\u001b[0;34m\u001b[0m\u001b[0m\n\u001b[0m\u001b[1;32m   1085\u001b[0m         \u001b[0mcolumns\u001b[0m \u001b[0;34m=\u001b[0m \u001b[0mresult\u001b[0m\u001b[0;34m.\u001b[0m\u001b[0mkeys\u001b[0m\u001b[0;34m(\u001b[0m\u001b[0;34m)\u001b[0m\u001b[0;34m\u001b[0m\u001b[0m\n\u001b[1;32m   1086\u001b[0m \u001b[0;34m\u001b[0m\u001b[0m\n",
      "\u001b[0;32m/home/alifer/.local/lib/python3.5/site-packages/pandas/io/sql.py\u001b[0m in \u001b[0;36mexecute\u001b[0;34m(self, *args, **kwargs)\u001b[0m\n\u001b[1;32m    973\u001b[0m     \u001b[0;32mdef\u001b[0m \u001b[0mexecute\u001b[0m\u001b[0;34m(\u001b[0m\u001b[0mself\u001b[0m\u001b[0;34m,\u001b[0m \u001b[0;34m*\u001b[0m\u001b[0margs\u001b[0m\u001b[0;34m,\u001b[0m \u001b[0;34m**\u001b[0m\u001b[0mkwargs\u001b[0m\u001b[0;34m)\u001b[0m\u001b[0;34m:\u001b[0m\u001b[0;34m\u001b[0m\u001b[0m\n\u001b[1;32m    974\u001b[0m         \u001b[0;34m\"\"\"Simple passthrough to SQLAlchemy connectable\"\"\"\u001b[0m\u001b[0;34m\u001b[0m\u001b[0m\n\u001b[0;32m--> 975\u001b[0;31m         \u001b[0;32mreturn\u001b[0m \u001b[0mself\u001b[0m\u001b[0;34m.\u001b[0m\u001b[0mconnectable\u001b[0m\u001b[0;34m.\u001b[0m\u001b[0mexecute\u001b[0m\u001b[0;34m(\u001b[0m\u001b[0;34m*\u001b[0m\u001b[0margs\u001b[0m\u001b[0;34m,\u001b[0m \u001b[0;34m**\u001b[0m\u001b[0mkwargs\u001b[0m\u001b[0;34m)\u001b[0m\u001b[0;34m\u001b[0m\u001b[0m\n\u001b[0m\u001b[1;32m    976\u001b[0m \u001b[0;34m\u001b[0m\u001b[0m\n\u001b[1;32m    977\u001b[0m     def read_table(self, table_name, index_col=None, coerce_float=True,\n",
      "\u001b[0;32m/usr/local/lib/python3.5/dist-packages/sqlalchemy/engine/base.py\u001b[0m in \u001b[0;36mexecute\u001b[0;34m(self, statement, *multiparams, **params)\u001b[0m\n\u001b[1;32m   2062\u001b[0m \u001b[0;34m\u001b[0m\u001b[0m\n\u001b[1;32m   2063\u001b[0m         \u001b[0mconnection\u001b[0m \u001b[0;34m=\u001b[0m \u001b[0mself\u001b[0m\u001b[0;34m.\u001b[0m\u001b[0mcontextual_connect\u001b[0m\u001b[0;34m(\u001b[0m\u001b[0mclose_with_result\u001b[0m\u001b[0;34m=\u001b[0m\u001b[0;32mTrue\u001b[0m\u001b[0;34m)\u001b[0m\u001b[0;34m\u001b[0m\u001b[0m\n\u001b[0;32m-> 2064\u001b[0;31m         \u001b[0;32mreturn\u001b[0m \u001b[0mconnection\u001b[0m\u001b[0;34m.\u001b[0m\u001b[0mexecute\u001b[0m\u001b[0;34m(\u001b[0m\u001b[0mstatement\u001b[0m\u001b[0;34m,\u001b[0m \u001b[0;34m*\u001b[0m\u001b[0mmultiparams\u001b[0m\u001b[0;34m,\u001b[0m \u001b[0;34m**\u001b[0m\u001b[0mparams\u001b[0m\u001b[0;34m)\u001b[0m\u001b[0;34m\u001b[0m\u001b[0m\n\u001b[0m\u001b[1;32m   2065\u001b[0m \u001b[0;34m\u001b[0m\u001b[0m\n\u001b[1;32m   2066\u001b[0m     \u001b[0;32mdef\u001b[0m \u001b[0mscalar\u001b[0m\u001b[0;34m(\u001b[0m\u001b[0mself\u001b[0m\u001b[0;34m,\u001b[0m \u001b[0mstatement\u001b[0m\u001b[0;34m,\u001b[0m \u001b[0;34m*\u001b[0m\u001b[0mmultiparams\u001b[0m\u001b[0;34m,\u001b[0m \u001b[0;34m**\u001b[0m\u001b[0mparams\u001b[0m\u001b[0;34m)\u001b[0m\u001b[0;34m:\u001b[0m\u001b[0;34m\u001b[0m\u001b[0m\n",
      "\u001b[0;32m/usr/local/lib/python3.5/dist-packages/sqlalchemy/engine/base.py\u001b[0m in \u001b[0;36mexecute\u001b[0;34m(self, object, *multiparams, **params)\u001b[0m\n\u001b[1;32m    937\u001b[0m         \"\"\"\n\u001b[1;32m    938\u001b[0m         \u001b[0;32mif\u001b[0m \u001b[0misinstance\u001b[0m\u001b[0;34m(\u001b[0m\u001b[0mobject\u001b[0m\u001b[0;34m,\u001b[0m \u001b[0mutil\u001b[0m\u001b[0;34m.\u001b[0m\u001b[0mstring_types\u001b[0m\u001b[0;34m[\u001b[0m\u001b[0;36m0\u001b[0m\u001b[0;34m]\u001b[0m\u001b[0;34m)\u001b[0m\u001b[0;34m:\u001b[0m\u001b[0;34m\u001b[0m\u001b[0m\n\u001b[0;32m--> 939\u001b[0;31m             \u001b[0;32mreturn\u001b[0m \u001b[0mself\u001b[0m\u001b[0;34m.\u001b[0m\u001b[0m_execute_text\u001b[0m\u001b[0;34m(\u001b[0m\u001b[0mobject\u001b[0m\u001b[0;34m,\u001b[0m \u001b[0mmultiparams\u001b[0m\u001b[0;34m,\u001b[0m \u001b[0mparams\u001b[0m\u001b[0;34m)\u001b[0m\u001b[0;34m\u001b[0m\u001b[0m\n\u001b[0m\u001b[1;32m    940\u001b[0m         \u001b[0;32mtry\u001b[0m\u001b[0;34m:\u001b[0m\u001b[0;34m\u001b[0m\u001b[0m\n\u001b[1;32m    941\u001b[0m             \u001b[0mmeth\u001b[0m \u001b[0;34m=\u001b[0m \u001b[0mobject\u001b[0m\u001b[0;34m.\u001b[0m\u001b[0m_execute_on_connection\u001b[0m\u001b[0;34m\u001b[0m\u001b[0m\n",
      "\u001b[0;32m/usr/local/lib/python3.5/dist-packages/sqlalchemy/engine/base.py\u001b[0m in \u001b[0;36m_execute_text\u001b[0;34m(self, statement, multiparams, params)\u001b[0m\n\u001b[1;32m   1095\u001b[0m             \u001b[0mstatement\u001b[0m\u001b[0;34m,\u001b[0m\u001b[0;34m\u001b[0m\u001b[0m\n\u001b[1;32m   1096\u001b[0m             \u001b[0mparameters\u001b[0m\u001b[0;34m,\u001b[0m\u001b[0;34m\u001b[0m\u001b[0m\n\u001b[0;32m-> 1097\u001b[0;31m             \u001b[0mstatement\u001b[0m\u001b[0;34m,\u001b[0m \u001b[0mparameters\u001b[0m\u001b[0;34m\u001b[0m\u001b[0m\n\u001b[0m\u001b[1;32m   1098\u001b[0m         )\n\u001b[1;32m   1099\u001b[0m         \u001b[0;32mif\u001b[0m \u001b[0mself\u001b[0m\u001b[0;34m.\u001b[0m\u001b[0m_has_events\u001b[0m \u001b[0;32mor\u001b[0m \u001b[0mself\u001b[0m\u001b[0;34m.\u001b[0m\u001b[0mengine\u001b[0m\u001b[0;34m.\u001b[0m\u001b[0m_has_events\u001b[0m\u001b[0;34m:\u001b[0m\u001b[0;34m\u001b[0m\u001b[0m\n",
      "\u001b[0;32m/usr/local/lib/python3.5/dist-packages/sqlalchemy/engine/base.py\u001b[0m in \u001b[0;36m_execute_context\u001b[0;34m(self, dialect, constructor, statement, parameters, *args)\u001b[0m\n\u001b[1;32m   1187\u001b[0m                 \u001b[0mparameters\u001b[0m\u001b[0;34m,\u001b[0m\u001b[0;34m\u001b[0m\u001b[0m\n\u001b[1;32m   1188\u001b[0m                 \u001b[0mcursor\u001b[0m\u001b[0;34m,\u001b[0m\u001b[0;34m\u001b[0m\u001b[0m\n\u001b[0;32m-> 1189\u001b[0;31m                 context)\n\u001b[0m\u001b[1;32m   1190\u001b[0m \u001b[0;34m\u001b[0m\u001b[0m\n\u001b[1;32m   1191\u001b[0m         \u001b[0;32mif\u001b[0m \u001b[0mself\u001b[0m\u001b[0;34m.\u001b[0m\u001b[0m_has_events\u001b[0m \u001b[0;32mor\u001b[0m \u001b[0mself\u001b[0m\u001b[0;34m.\u001b[0m\u001b[0mengine\u001b[0m\u001b[0;34m.\u001b[0m\u001b[0m_has_events\u001b[0m\u001b[0;34m:\u001b[0m\u001b[0;34m\u001b[0m\u001b[0m\n",
      "\u001b[0;32m/usr/local/lib/python3.5/dist-packages/sqlalchemy/engine/base.py\u001b[0m in \u001b[0;36m_handle_dbapi_exception\u001b[0;34m(self, e, statement, parameters, cursor, context)\u001b[0m\n\u001b[1;32m   1400\u001b[0m                 util.raise_from_cause(\n\u001b[1;32m   1401\u001b[0m                     \u001b[0msqlalchemy_exception\u001b[0m\u001b[0;34m,\u001b[0m\u001b[0;34m\u001b[0m\u001b[0m\n\u001b[0;32m-> 1402\u001b[0;31m                     \u001b[0mexc_info\u001b[0m\u001b[0;34m\u001b[0m\u001b[0m\n\u001b[0m\u001b[1;32m   1403\u001b[0m                 )\n\u001b[1;32m   1404\u001b[0m             \u001b[0;32melse\u001b[0m\u001b[0;34m:\u001b[0m\u001b[0;34m\u001b[0m\u001b[0m\n",
      "\u001b[0;32m/usr/local/lib/python3.5/dist-packages/sqlalchemy/util/compat.py\u001b[0m in \u001b[0;36mraise_from_cause\u001b[0;34m(exception, exc_info)\u001b[0m\n\u001b[1;32m    201\u001b[0m     \u001b[0mexc_type\u001b[0m\u001b[0;34m,\u001b[0m \u001b[0mexc_value\u001b[0m\u001b[0;34m,\u001b[0m \u001b[0mexc_tb\u001b[0m \u001b[0;34m=\u001b[0m \u001b[0mexc_info\u001b[0m\u001b[0;34m\u001b[0m\u001b[0m\n\u001b[1;32m    202\u001b[0m     \u001b[0mcause\u001b[0m \u001b[0;34m=\u001b[0m \u001b[0mexc_value\u001b[0m \u001b[0;32mif\u001b[0m \u001b[0mexc_value\u001b[0m \u001b[0;32mis\u001b[0m \u001b[0;32mnot\u001b[0m \u001b[0mexception\u001b[0m \u001b[0;32melse\u001b[0m \u001b[0;32mNone\u001b[0m\u001b[0;34m\u001b[0m\u001b[0m\n\u001b[0;32m--> 203\u001b[0;31m     \u001b[0mreraise\u001b[0m\u001b[0;34m(\u001b[0m\u001b[0mtype\u001b[0m\u001b[0;34m(\u001b[0m\u001b[0mexception\u001b[0m\u001b[0;34m)\u001b[0m\u001b[0;34m,\u001b[0m \u001b[0mexception\u001b[0m\u001b[0;34m,\u001b[0m \u001b[0mtb\u001b[0m\u001b[0;34m=\u001b[0m\u001b[0mexc_tb\u001b[0m\u001b[0;34m,\u001b[0m \u001b[0mcause\u001b[0m\u001b[0;34m=\u001b[0m\u001b[0mcause\u001b[0m\u001b[0;34m)\u001b[0m\u001b[0;34m\u001b[0m\u001b[0m\n\u001b[0m\u001b[1;32m    204\u001b[0m \u001b[0;34m\u001b[0m\u001b[0m\n\u001b[1;32m    205\u001b[0m \u001b[0;32mif\u001b[0m \u001b[0mpy3k\u001b[0m\u001b[0;34m:\u001b[0m\u001b[0;34m\u001b[0m\u001b[0m\n",
      "\u001b[0;32m/usr/local/lib/python3.5/dist-packages/sqlalchemy/util/compat.py\u001b[0m in \u001b[0;36mreraise\u001b[0;34m(tp, value, tb, cause)\u001b[0m\n\u001b[1;32m    184\u001b[0m             \u001b[0mvalue\u001b[0m\u001b[0;34m.\u001b[0m\u001b[0m__cause__\u001b[0m \u001b[0;34m=\u001b[0m \u001b[0mcause\u001b[0m\u001b[0;34m\u001b[0m\u001b[0m\n\u001b[1;32m    185\u001b[0m         \u001b[0;32mif\u001b[0m \u001b[0mvalue\u001b[0m\u001b[0;34m.\u001b[0m\u001b[0m__traceback__\u001b[0m \u001b[0;32mis\u001b[0m \u001b[0;32mnot\u001b[0m \u001b[0mtb\u001b[0m\u001b[0;34m:\u001b[0m\u001b[0;34m\u001b[0m\u001b[0m\n\u001b[0;32m--> 186\u001b[0;31m             \u001b[0;32mraise\u001b[0m \u001b[0mvalue\u001b[0m\u001b[0;34m.\u001b[0m\u001b[0mwith_traceback\u001b[0m\u001b[0;34m(\u001b[0m\u001b[0mtb\u001b[0m\u001b[0;34m)\u001b[0m\u001b[0;34m\u001b[0m\u001b[0m\n\u001b[0m\u001b[1;32m    187\u001b[0m         \u001b[0;32mraise\u001b[0m \u001b[0mvalue\u001b[0m\u001b[0;34m\u001b[0m\u001b[0m\n\u001b[1;32m    188\u001b[0m \u001b[0;34m\u001b[0m\u001b[0m\n",
      "\u001b[0;32m/usr/local/lib/python3.5/dist-packages/sqlalchemy/engine/base.py\u001b[0m in \u001b[0;36m_execute_context\u001b[0;34m(self, dialect, constructor, statement, parameters, *args)\u001b[0m\n\u001b[1;32m   1180\u001b[0m                         \u001b[0mstatement\u001b[0m\u001b[0;34m,\u001b[0m\u001b[0;34m\u001b[0m\u001b[0m\n\u001b[1;32m   1181\u001b[0m                         \u001b[0mparameters\u001b[0m\u001b[0;34m,\u001b[0m\u001b[0;34m\u001b[0m\u001b[0m\n\u001b[0;32m-> 1182\u001b[0;31m                         context)\n\u001b[0m\u001b[1;32m   1183\u001b[0m         \u001b[0;32mexcept\u001b[0m \u001b[0mBaseException\u001b[0m \u001b[0;32mas\u001b[0m \u001b[0me\u001b[0m\u001b[0;34m:\u001b[0m\u001b[0;34m\u001b[0m\u001b[0m\n\u001b[1;32m   1184\u001b[0m             self._handle_dbapi_exception(\n",
      "\u001b[0;32m/usr/local/lib/python3.5/dist-packages/sqlalchemy/engine/default.py\u001b[0m in \u001b[0;36mdo_execute\u001b[0;34m(self, cursor, statement, parameters, context)\u001b[0m\n\u001b[1;32m    468\u001b[0m \u001b[0;34m\u001b[0m\u001b[0m\n\u001b[1;32m    469\u001b[0m     \u001b[0;32mdef\u001b[0m \u001b[0mdo_execute\u001b[0m\u001b[0;34m(\u001b[0m\u001b[0mself\u001b[0m\u001b[0;34m,\u001b[0m \u001b[0mcursor\u001b[0m\u001b[0;34m,\u001b[0m \u001b[0mstatement\u001b[0m\u001b[0;34m,\u001b[0m \u001b[0mparameters\u001b[0m\u001b[0;34m,\u001b[0m \u001b[0mcontext\u001b[0m\u001b[0;34m=\u001b[0m\u001b[0;32mNone\u001b[0m\u001b[0;34m)\u001b[0m\u001b[0;34m:\u001b[0m\u001b[0;34m\u001b[0m\u001b[0m\n\u001b[0;32m--> 470\u001b[0;31m         \u001b[0mcursor\u001b[0m\u001b[0;34m.\u001b[0m\u001b[0mexecute\u001b[0m\u001b[0;34m(\u001b[0m\u001b[0mstatement\u001b[0m\u001b[0;34m,\u001b[0m \u001b[0mparameters\u001b[0m\u001b[0;34m)\u001b[0m\u001b[0;34m\u001b[0m\u001b[0m\n\u001b[0m\u001b[1;32m    471\u001b[0m \u001b[0;34m\u001b[0m\u001b[0m\n\u001b[1;32m    472\u001b[0m     \u001b[0;32mdef\u001b[0m \u001b[0mdo_execute_no_params\u001b[0m\u001b[0;34m(\u001b[0m\u001b[0mself\u001b[0m\u001b[0;34m,\u001b[0m \u001b[0mcursor\u001b[0m\u001b[0;34m,\u001b[0m \u001b[0mstatement\u001b[0m\u001b[0;34m,\u001b[0m \u001b[0mcontext\u001b[0m\u001b[0;34m=\u001b[0m\u001b[0;32mNone\u001b[0m\u001b[0;34m)\u001b[0m\u001b[0;34m:\u001b[0m\u001b[0;34m\u001b[0m\u001b[0m\n",
      "\u001b[0;31mProgrammingError\u001b[0m: (psycopg2.ProgrammingError) column \"cod_themes\" does not exist\nLINE 7:         (cod_themes LIKE '%saude%') AND\n                 ^\n [SQL: \"\\n    SELECT\\n        *\\n    FROM\\n        viz_painel_temas.proposicoes\\n    WHERE\\n        (cod_themes LIKE '%%saude%%') AND\\n        (\\n          EXTRACT(YEAR FROM dataapresentacao) <= 2018\\n          AND (\\n            descricao_situacao = 'Em Tramitação'\\n            OR (\\n              descricao_situacao != 'Em Tramitação'\\n              AND EXTRACT(YEAR FROM data_ultima_tramitacao) >= 2014\\n            )\\n          )\\n        )\\n    \"]"
     ]
    }
   ],
   "source": [
    "years_range = [2014,2018]\n",
    "test = propositions_filter(['saude'],years_range)\n",
    "print(type(test))\n",
    "test2 = pd.read_json(test,orient='split')\n",
    "test2.head(2)"
   ]
  },
  {
   "cell_type": "markdown",
   "metadata": {},
   "source": [
    "### Congressmen table's filter"
   ]
  },
  {
   "cell_type": "code",
   "execution_count": 11,
   "metadata": {
    "collapsed": true
   },
   "outputs": [],
   "source": [
    "def congressmen_filter(propositions_table, years_range):\n",
    "    \"\"\"\n",
    "    Return a json generated by the congressmen table filtered by the params.\n",
    "    :param propositions_table: str - json with the filtered propositions.\n",
    "    :param years_range: list - Years range of propositions\n",
    "    :return: str(json)\n",
    "    \"\"\"\n",
    "    print('### FILTERING CONGRESSMEN ###')\n",
    "\n",
    "    propositions = pd.read_json(propositions_table, orient='split')\n",
    "    years_legs = {year: int((year - 2003) / 4 + 52) for year in range(1980, 2030)}\n",
    "\n",
    "    query = \"\"\"\n",
    "    SELECT\n",
    "        *\n",
    "    FROM\n",
    "        viz_painel_temas.deputados\n",
    "    WHERE\n",
    "        numlegislatura BETWEEN {leg0} AND {leg1}\n",
    "    ORDER BY\n",
    "        numlegislatura DESC;\n",
    "    \"\"\".format(leg0=years_legs[years_range[0]], leg1=years_legs[years_range[1]])\n",
    "\n",
    "    df = pd.read_sql_query(query, con)\n",
    "\n",
    "    propositions.idecadastro = np.nan_to_num(propositions.idecadastro).astype(int)\n",
    "    sponsors = pd.DataFrame(propositions.idecadastro.value_counts())\n",
    "    sponsors.columns = ['autorias']\n",
    "\n",
    "    df = df.merge(sponsors, left_on='idecadastro', right_index=True, how='left')\n",
    "    df_json = df.to_json(date_format='iso', orient='split')\n",
    "\n",
    "    print('### DONE ###')\n",
    "    return df_json"
   ]
  },
  {
   "cell_type": "code",
   "execution_count": 12,
   "metadata": {
    "collapsed": false
   },
   "outputs": [
    {
     "name": "stdout",
     "output_type": "stream",
     "text": [
      "### FILTERING CONGRESSMEN ###\n",
      "### DONE ###\n"
     ]
    },
    {
     "data": {
      "text/html": [
       "<div>\n",
       "<table border=\"1\" class=\"dataframe\">\n",
       "  <thead>\n",
       "    <tr style=\"text-align: right;\">\n",
       "      <th></th>\n",
       "      <th>index</th>\n",
       "      <th>idecadastro</th>\n",
       "      <th>numlegislatura</th>\n",
       "      <th>nomeparlamentar</th>\n",
       "      <th>sexo</th>\n",
       "      <th>legendapartidoeleito</th>\n",
       "      <th>condicao</th>\n",
       "      <th>situacaomandato</th>\n",
       "      <th>ufeleito</th>\n",
       "      <th>urlfoto</th>\n",
       "      <th>autorias</th>\n",
       "    </tr>\n",
       "  </thead>\n",
       "  <tbody>\n",
       "    <tr>\n",
       "      <th>0</th>\n",
       "      <td>3092</td>\n",
       "      <td>74277</td>\n",
       "      <td>55</td>\n",
       "      <td>LOBBE NETO</td>\n",
       "      <td>M</td>\n",
       "      <td>PSDB</td>\n",
       "      <td>Suplente</td>\n",
       "      <td>Em Exercício</td>\n",
       "      <td>SP</td>\n",
       "      <td>http://www.camara.leg.br/internet/deputado/ban...</td>\n",
       "      <td>4.0</td>\n",
       "    </tr>\n",
       "    <tr>\n",
       "      <th>1</th>\n",
       "      <td>882</td>\n",
       "      <td>74651</td>\n",
       "      <td>55</td>\n",
       "      <td>CARLOS MELLES</td>\n",
       "      <td>M</td>\n",
       "      <td>DEM</td>\n",
       "      <td>Titular</td>\n",
       "      <td>Em Exercício</td>\n",
       "      <td>MG</td>\n",
       "      <td>http://www.camara.leg.br/internet/deputado/ban...</td>\n",
       "      <td>NaN</td>\n",
       "    </tr>\n",
       "  </tbody>\n",
       "</table>\n",
       "</div>"
      ],
      "text/plain": [
       "   index  idecadastro  numlegislatura nomeparlamentar sexo  \\\n",
       "0   3092        74277              55      LOBBE NETO    M   \n",
       "1    882        74651              55   CARLOS MELLES    M   \n",
       "\n",
       "  legendapartidoeleito  condicao situacaomandato ufeleito  \\\n",
       "0                 PSDB  Suplente    Em Exercício       SP   \n",
       "1                  DEM   Titular    Em Exercício       MG   \n",
       "\n",
       "                                             urlfoto  autorias  \n",
       "0  http://www.camara.leg.br/internet/deputado/ban...       4.0  \n",
       "1  http://www.camara.leg.br/internet/deputado/ban...       NaN  "
      ]
     },
     "execution_count": 12,
     "metadata": {},
     "output_type": "execute_result"
    }
   ],
   "source": [
    "test_congressmen = congressmen_filter(test,years_range)\n",
    "test_congressmen2 = pd.read_json(test_congressmen,orient='split')\n",
    "test_congressmen2.head(2)"
   ]
  },
  {
   "cell_type": "code",
   "execution_count": 13,
   "metadata": {
    "collapsed": false
   },
   "outputs": [
    {
     "data": {
      "text/plain": [
       "1216"
      ]
     },
     "execution_count": 13,
     "metadata": {},
     "output_type": "execute_result"
    }
   ],
   "source": [
    "len(test_congressmen2)"
   ]
  },
  {
   "cell_type": "markdown",
   "metadata": {},
   "source": [
    "### Political parties table's filter"
   ]
  },
  {
   "cell_type": "code",
   "execution_count": 16,
   "metadata": {
    "collapsed": true
   },
   "outputs": [],
   "source": [
    "def political_parties_filter(congressmen_table):\n",
    "    \"\"\"\n",
    "    Return a json generated by the political parties table with amount of congressmen and sponsors.\n",
    "    :param congressmen_table: str - json with the filtered congressmen.\n",
    "    :return: str(json)\n",
    "    \"\"\"\n",
    "    print('### FILTERING POLITICAL PARTIES ###')\n",
    "    congressmen = pd\\\n",
    "        .read_json(congressmen_table, orient='split') \\\n",
    "        .rename(columns={'legendapartidoeleito': 'idpartido'})\\\n",
    "        .sort_values('numlegislatura', ascending=False)\\\n",
    "        .drop_duplicates(['idecadastro', 'idpartido'], keep='first')\n",
    "\n",
    "    names = pd.read_sql_query(\"SELECT * FROM viz_painel_temas.partidos\", con)\n",
    "\n",
    "    sponsors = congressmen[['idpartido', 'autorias']] \\\n",
    "        .dropna() \\\n",
    "        .groupby(['idpartido']) \\\n",
    "        .agg({'idpartido': 'count', 'autorias': 'sum'}) \\\n",
    "        .rename(columns={'idpartido': 'autores'})\n",
    "\n",
    "    df = sponsors.merge(names, left_index=True, right_on='idpartido', how='left') \\\n",
    "        .sort_values('autorias', ascending=False)\n",
    "\n",
    "    df['autoriasporautores'] = df['autorias']/df['autores']\n",
    "\n",
    "    df_json = df.to_json(date_format='iso', orient='split')\n",
    "\n",
    "    print('### DONE ###')\n",
    "    return df_json"
   ]
  },
  {
   "cell_type": "code",
   "execution_count": 17,
   "metadata": {
    "collapsed": false
   },
   "outputs": [
    {
     "name": "stdout",
     "output_type": "stream",
     "text": [
      "### FILTERING POLITICAL PARTIES ###\n",
      "### DONE ###\n"
     ]
    },
    {
     "data": {
      "text/html": [
       "<div>\n",
       "<table border=\"1\" class=\"dataframe\">\n",
       "  <thead>\n",
       "    <tr style=\"text-align: right;\">\n",
       "      <th></th>\n",
       "      <th>autorias</th>\n",
       "      <th>autores</th>\n",
       "      <th>idpartido</th>\n",
       "      <th>nomepartido</th>\n",
       "      <th>autoriasporautores</th>\n",
       "    </tr>\n",
       "  </thead>\n",
       "  <tbody>\n",
       "    <tr>\n",
       "      <th>76</th>\n",
       "      <td>221</td>\n",
       "      <td>74</td>\n",
       "      <td>PMDB</td>\n",
       "      <td>Partido do Movimento Democrático Brasileiro</td>\n",
       "      <td>2.986486</td>\n",
       "    </tr>\n",
       "    <tr>\n",
       "      <th>28</th>\n",
       "      <td>207</td>\n",
       "      <td>57</td>\n",
       "      <td>PSDB</td>\n",
       "      <td>Partido da Social Democracia Brasileira</td>\n",
       "      <td>3.631579</td>\n",
       "    </tr>\n",
       "  </tbody>\n",
       "</table>\n",
       "</div>"
      ],
      "text/plain": [
       "    autorias  autores idpartido                                  nomepartido  \\\n",
       "76       221       74      PMDB  Partido do Movimento Democrático Brasileiro   \n",
       "28       207       57      PSDB      Partido da Social Democracia Brasileira   \n",
       "\n",
       "    autoriasporautores  \n",
       "76            2.986486  \n",
       "28            3.631579  "
      ]
     },
     "execution_count": 17,
     "metadata": {},
     "output_type": "execute_result"
    }
   ],
   "source": [
    "test_parties = political_parties_filter(test_congressmen)\n",
    "test_parties2 = pd.read_json(test_parties,orient='split')\n",
    "test_parties2.head(2)"
   ]
  },
  {
   "cell_type": "code",
   "execution_count": 62,
   "metadata": {
    "collapsed": false
   },
   "outputs": [
    {
     "data": {
      "text/html": [
       "<div>\n",
       "<table border=\"1\" class=\"dataframe\">\n",
       "  <thead>\n",
       "    <tr style=\"text-align: right;\">\n",
       "      <th></th>\n",
       "      <th>idpartido</th>\n",
       "      <th>autorias</th>\n",
       "    </tr>\n",
       "  </thead>\n",
       "  <tbody>\n",
       "    <tr>\n",
       "      <th>76</th>\n",
       "      <td>PMDB</td>\n",
       "      <td>221</td>\n",
       "    </tr>\n",
       "    <tr>\n",
       "      <th>28</th>\n",
       "      <td>PSDB</td>\n",
       "      <td>207</td>\n",
       "    </tr>\n",
       "  </tbody>\n",
       "</table>\n",
       "</div>"
      ],
      "text/plain": [
       "   idpartido  autorias\n",
       "76      PMDB       221\n",
       "28      PSDB       207"
      ]
     },
     "execution_count": 62,
     "metadata": {},
     "output_type": "execute_result"
    }
   ],
   "source": [
    "propositions = test_parties2.loc[:,['idpartido','autorias']].sort_values('autorias',ascending=0)\n",
    "propositions.head(2)"
   ]
  },
  {
   "cell_type": "code",
   "execution_count": 68,
   "metadata": {
    "collapsed": false
   },
   "outputs": [],
   "source": [
    "test_parties2 = test_parties2.set_index('idpartido')"
   ]
  },
  {
   "cell_type": "code",
   "execution_count": 153,
   "metadata": {
    "collapsed": false
   },
   "outputs": [
    {
     "ename": "SyntaxError",
     "evalue": "invalid syntax (<ipython-input-153-070855f0db2e>, line 1)",
     "output_type": "error",
     "traceback": [
      "\u001b[0;36m  File \u001b[0;32m\"<ipython-input-153-070855f0db2e>\"\u001b[0;36m, line \u001b[0;32m1\u001b[0m\n\u001b[0;31m    def parties_infos(df_json)\u001b[0m\n\u001b[0m                              ^\u001b[0m\n\u001b[0;31mSyntaxError\u001b[0m\u001b[0;31m:\u001b[0m invalid syntax\n"
     ]
    }
   ],
   "source": [
    "def parties_infos(df_json):\n",
    "    politcal_parties = pd.read_json(df_json, orient='split')\n",
    "    fig = plotly.tools.make_subplots(\n",
    "        rows=1, \n",
    "        cols=3, \n",
    "        subplot_titles=['Proposições apresentadas', 'Número de autores', 'Relação apresentações por autores'],\n",
    "        print_grid=False\n",
    "    )\n",
    "\n",
    "    fig['layout'].update(\n",
    "        height = 700,\n",
    "        showlegend = False,\n",
    "    )\n",
    "\n",
    "    trace1 = go.Bar(\n",
    "        x=political_parties.autorias.sort_values().values,\n",
    "        y=political_parties.autorias.sort_values().index,\n",
    "        orientation = 'h',\n",
    "        marker = dict(\n",
    "            color = '#00B3E0'\n",
    "        ),\n",
    "    )\n",
    "\n",
    "    trace2 = go.Bar(\n",
    "        x=political_parties.autores.sort_values().values,\n",
    "        y=political_parties.autores.sort_values().index,\n",
    "        orientation = 'h',\n",
    "        marker = dict(\n",
    "            color = '#00B3E0'\n",
    "        ),\n",
    "    )\n",
    "\n",
    "    trace3 = go.Bar(\n",
    "        x=political_parties.autoriasporautores.sort_values().values,\n",
    "        y=political_parties.autoriasporautores.sort_values().index,\n",
    "        orientation = 'h',\n",
    "        marker = dict(\n",
    "            color = '#00B3E0'\n",
    "        ),\n",
    "    )\n",
    "\n",
    "    fig['layout'].update(\n",
    "        yaxis=dict(ticksuffix='  '),\n",
    "        yaxis2=dict(ticksuffix='  '),\n",
    "        yaxis3=dict(ticksuffix='  '),\n",
    "    )\n",
    "\n",
    "    fig.append_trace(trace1, 1, 1)\n",
    "    fig.append_trace(trace2, 1, 2)\n",
    "    fig.append_trace(trace3, 1, 3)\n",
    "\n",
    "    return dcc.Graph(id='political_parties_graph', figure=fig)"
   ]
  },
  {
   "cell_type": "code",
   "execution_count": null,
   "metadata": {
    "collapsed": true
   },
   "outputs": [],
   "source": []
  },
  {
   "cell_type": "code",
   "execution_count": null,
   "metadata": {
    "collapsed": true
   },
   "outputs": [],
   "source": []
  },
  {
   "cell_type": "code",
   "execution_count": null,
   "metadata": {
    "collapsed": true
   },
   "outputs": [],
   "source": []
  },
  {
   "cell_type": "code",
   "execution_count": 118,
   "metadata": {
    "collapsed": false
   },
   "outputs": [
    {
     "data": {
      "text/html": [
       "<div id=\"2697f414-35b6-4a22-8a31-50adb7fed93a\" style=\"height: 1000px; width: 100%;\" class=\"plotly-graph-div\"></div><script type=\"text/javascript\">require([\"plotly\"], function(Plotly) { window.PLOTLYENV=window.PLOTLYENV || {};window.PLOTLYENV.BASE_URL=\"https://plot.ly\";Plotly.newPlot(\"2697f414-35b6-4a22-8a31-50adb7fed93a\", [{\"type\": \"parcoords\", \"dimensions\": [{\"values\": [1, 2, 5, 9, 11, 11, 11, 11, 15, 16, 26, 26, 48, 51, 54, 55, 69, 69, 111, 119, 123, 132, 142, 152, 163, 198, 207, 221], \"tickvals\": [1, 2, 5, 9, 11, 11, 11, 11, 15, 16, 26, 26, 48, 51, 54, 55, 69, 69, 111, 119, 123, 132, 142, 152, 163, 198, 207, 221], \"label\": \"Partidos\", \"ticktext\": [\"PSDC\", \"PSL\", \"PEN\", \"PTN\", \"PRP\", \"PTdoB\", \"PTC\", \"PRTB\", \"PMN\", \"PSOL\", \"PROS\", \"PHS\", \"PPS\", \"SD\", \"PCdoB\", \"PSC\", \"PTB\", \"PV\", \"PSB\", \"PDT\", \"DEM\", \"PSD\", \"PR\", \"PP\", \"PRB\", \"PT\", \"PSDB\", \"PMDB\"]}, {\"values\": [1, 2, 5, 9, 11, 11, 11, 11, 15, 16, 26, 26, 48, 51, 54, 55, 69, 69, 111, 119, 123, 132, 142, 152, 163, 198, 207, 221], \"label\": \"Qtd Apresenta\\u00e7\\u00f5es\"}, {\"values\": [1, 1, 1, 2, 3, 4, 2, 3, 8, 4, 9, 6, 17, 12, 14, 21, 25, 18, 36, 29, 40, 31, 40, 36, 20, 72, 57, 74], \"label\": \"Qtd Autores\"}, {\"values\": [1.0, 2.0, 5.0, 4.5, 3.6666666667000003, 2.75, 5.5, 3.6666666667000003, 1.875, 4.0, 2.8888888889, 4.3333333333, 2.8235294118, 4.25, 3.8571428571, 2.619047619, 2.76, 3.8333333333, 3.0833333333, 4.1034482759, 3.075, 4.2580645161, 3.55, 4.2222222222, 8.15, 2.75, 3.6315789474, 2.9864864865], \"label\": \"Rela\\u00e7\\u00e3o apresenta\\u00e7\\u00f5es por autores\"}], \"domain\": {\"y\": [\"PSDC\", \"PSL\", \"PEN\", \"PTN\", \"PRP\", \"PTdoB\", \"PTC\", \"PRTB\", \"PMN\", \"PSOL\", \"PROS\", \"PHS\", \"PPS\", \"SD\", \"PCdoB\", \"PSC\", \"PTB\", \"PV\", \"PSB\", \"PDT\", \"DEM\", \"PSD\", \"PR\", \"PP\", \"PRB\", \"PT\", \"PSDB\", \"PMDB\"]}}], {\"height\": 1000}, {\"showLink\": true, \"linkText\": \"Export to plot.ly\"})});</script>"
      ]
     },
     "metadata": {},
     "output_type": "execute_result"
    }
   ],
   "source": [
    "df = test_parties2.sort_values('autorias')\n",
    "\n",
    "data = [\n",
    "    go.Parcoords(\n",
    "        domain = dict(\n",
    "            y = df.index\n",
    "        ),\n",
    "#        showlegend=True,\n",
    "#        line = dict(color = df['species_id'],\n",
    "#                   colorscale = [[0,'#D7C16B'],[0.5,'#23D8C3'],[1,'#F3F10F']]),\n",
    "        dimensions = list([\n",
    "            dict(\n",
    "                ticktext=df.index,\n",
    "                tickvals=df.autorias,\n",
    "                label = 'Partidos',\n",
    "                values = df.autorias\n",
    "            ),\n",
    "            dict(\n",
    "                label = 'Qtd Apresentações',\n",
    "                values = df.autorias\n",
    "            ),\n",
    "            dict(\n",
    "                label = 'Qtd Autores',\n",
    "                values = df.autores\n",
    "            ),\n",
    "            dict(\n",
    "                label = 'Relação apresentações por autores',\n",
    "                values = df.autoriasporautores\n",
    "            ),\n",
    "        ])\n",
    "    )\n",
    "]\n",
    "\n",
    "layout = go.Layout(\n",
    "    height = 1000\n",
    ")\n",
    "\n",
    "fig = go.Figure(data = data, layout = layout)\n",
    "offline.iplot(fig, filename = 'parcoords-basic')"
   ]
  },
  {
   "cell_type": "code",
   "execution_count": 110,
   "metadata": {
    "collapsed": false
   },
   "outputs": [
    {
     "data": {
      "text/plain": [
       "Index(['PSDC', 'PSL', 'PEN', 'PTN', 'PRP', 'PTdoB', 'PTC', 'PRTB', 'PMN',\n",
       "       'PSOL', 'PROS', 'PHS', 'PPS', 'SD', 'PCdoB', 'PSC', 'PTB', 'PV', 'PSB',\n",
       "       'PDT', 'DEM', 'PSD', 'PR', 'PP', 'PRB', 'PT', 'PSDB', 'PMDB'],\n",
       "      dtype='object', name='idpartido')"
      ]
     },
     "execution_count": 110,
     "metadata": {},
     "output_type": "execute_result"
    }
   ],
   "source": [
    "df.index"
   ]
  },
  {
   "cell_type": "code",
   "execution_count": 91,
   "metadata": {
    "collapsed": false
   },
   "outputs": [
    {
     "data": {
      "text/html": [
       "<div>\n",
       "<table border=\"1\" class=\"dataframe\">\n",
       "  <thead>\n",
       "    <tr style=\"text-align: right;\">\n",
       "      <th></th>\n",
       "      <th>sepal_length</th>\n",
       "      <th>sepal_width</th>\n",
       "      <th>petal_length</th>\n",
       "      <th>petal_width</th>\n",
       "      <th>species</th>\n",
       "      <th>species_id</th>\n",
       "    </tr>\n",
       "  </thead>\n",
       "  <tbody>\n",
       "    <tr>\n",
       "      <th>0</th>\n",
       "      <td>5.1</td>\n",
       "      <td>3.5</td>\n",
       "      <td>1.4</td>\n",
       "      <td>0.2</td>\n",
       "      <td>setosa</td>\n",
       "      <td>1</td>\n",
       "    </tr>\n",
       "    <tr>\n",
       "      <th>1</th>\n",
       "      <td>4.9</td>\n",
       "      <td>3.0</td>\n",
       "      <td>1.4</td>\n",
       "      <td>0.2</td>\n",
       "      <td>setosa</td>\n",
       "      <td>1</td>\n",
       "    </tr>\n",
       "    <tr>\n",
       "      <th>2</th>\n",
       "      <td>4.7</td>\n",
       "      <td>3.2</td>\n",
       "      <td>1.3</td>\n",
       "      <td>0.2</td>\n",
       "      <td>setosa</td>\n",
       "      <td>1</td>\n",
       "    </tr>\n",
       "    <tr>\n",
       "      <th>3</th>\n",
       "      <td>4.6</td>\n",
       "      <td>3.1</td>\n",
       "      <td>1.5</td>\n",
       "      <td>0.2</td>\n",
       "      <td>setosa</td>\n",
       "      <td>1</td>\n",
       "    </tr>\n",
       "    <tr>\n",
       "      <th>4</th>\n",
       "      <td>5.0</td>\n",
       "      <td>3.6</td>\n",
       "      <td>1.4</td>\n",
       "      <td>0.2</td>\n",
       "      <td>setosa</td>\n",
       "      <td>1</td>\n",
       "    </tr>\n",
       "  </tbody>\n",
       "</table>\n",
       "</div>"
      ],
      "text/plain": [
       "   sepal_length  sepal_width  petal_length  petal_width species  species_id\n",
       "0           5.1          3.5           1.4          0.2  setosa           1\n",
       "1           4.9          3.0           1.4          0.2  setosa           1\n",
       "2           4.7          3.2           1.3          0.2  setosa           1\n",
       "3           4.6          3.1           1.5          0.2  setosa           1\n",
       "4           5.0          3.6           1.4          0.2  setosa           1"
      ]
     },
     "execution_count": 91,
     "metadata": {},
     "output_type": "execute_result"
    }
   ],
   "source": [
    "df.head()"
   ]
  },
  {
   "cell_type": "code",
   "execution_count": 56,
   "metadata": {
    "collapsed": false
   },
   "outputs": [
    {
     "data": {
      "text/html": [
       "<div id=\"6ceb0163-8085-457a-b237-ce661d411456\" style=\"height: 700px; width: 350px;\" class=\"plotly-graph-div\"></div><script type=\"text/javascript\">require([\"plotly\"], function(Plotly) { window.PLOTLYENV=window.PLOTLYENV || {};window.PLOTLYENV.BASE_URL=\"https://plot.ly\";Plotly.newPlot(\"6ceb0163-8085-457a-b237-ce661d411456\", [{\"type\": \"bar\", \"orientation\": \"h\", \"x\": [1, 2, 5, 9, 11, 11, 11, 11, 15, 16, 26, 26, 48, 51, 54, 55, 69, 69, 111, 119, 123, 132, 142, 152, 163, 198, 207, 221], \"y\": [\"PSDC\", \"PSL\", \"PEN\", \"PTN\", \"PRP\", \"PTdoB\", \"PTC\", \"PRTB\", \"PMN\", \"PSOL\", \"PROS\", \"PHS\", \"PPS\", \"SD\", \"PCdoB\", \"PSC\", \"PTB\", \"PV\", \"PSB\", \"PDT\", \"DEM\", \"PSD\", \"PR\", \"PP\", \"PRB\", \"PT\", \"PSDB\", \"PMDB\"]}], {\"width\": 350, \"height\": 700, \"yaxis\": {\"autotick\": false}}, {\"showLink\": true, \"linkText\": \"Export to plot.ly\"})});</script>"
      ]
     },
     "metadata": {},
     "output_type": "execute_result"
    }
   ],
   "source": [
    "data = [go.Bar(\n",
    "            x=propositions.autorias,\n",
    "            y=propositions.idpartido,\n",
    "            orientation = 'h'\n",
    ")]\n",
    "\n",
    "layout = go.Layout(\n",
    "    yaxis=dict(\n",
    "        autotick=False,\n",
    "    ),\n",
    "    height = 700,\n",
    "    width = 350\n",
    ")\n",
    "\n",
    "fig = go.Figure(data=data, layout=layout)\n",
    "\n",
    "offline.iplot(fig)"
   ]
  },
  {
   "cell_type": "code",
   "execution_count": null,
   "metadata": {
    "collapsed": true
   },
   "outputs": [],
   "source": []
  },
  {
   "cell_type": "code",
   "execution_count": null,
   "metadata": {
    "collapsed": true
   },
   "outputs": [],
   "source": []
  },
  {
   "cell_type": "code",
   "execution_count": null,
   "metadata": {
    "collapsed": true
   },
   "outputs": [],
   "source": []
  },
  {
   "cell_type": "markdown",
   "metadata": {},
   "source": [
    "---\n",
    "\n",
    "## **Infos generators**"
   ]
  },
  {
   "cell_type": "code",
   "execution_count": null,
   "metadata": {
    "collapsed": true
   },
   "outputs": [],
   "source": [
    "def political_parties_ranking(df_json):\n",
    "    df = pd.read_json(congressmen_json,orient='split')\n",
    "    \n",
    "    ranking = [\n",
    "        html.Div(\"\"\"\n",
    "            {abb}\n",
    "            {name}\n",
    "            {sponsors} Autorias - {congressmen} Parlamentares\n",
    "        \"\"\".format(\n",
    "            abb= df['idpartido'][index],\n",
    "            name= df['nomepartido'][index],\n",
    "            sponsors= df['autorias'][index],\n",
    "            congressmen= df['parlamentares'][index]\n",
    "        ))\n",
    "        for index in df[:5].index]"
   ]
  },
  {
   "cell_type": "code",
   "execution_count": 45,
   "metadata": {
    "collapsed": true
   },
   "outputs": [],
   "source": [
    "def congressmen_ranking(congressmen_json):\n",
    "    df = pd.read_json(congressmen_json,orient='split')\n",
    "    df = df.drop_duplicates('idecadastro')\n",
    "\n",
    "    ranking = [\n",
    "        html.Div(\"\"\"\n",
    "            {url_picture}\n",
    "            {name}\n",
    "            {party} - {district} - {proprositions} Autorias\n",
    "        \"\"\".format(\n",
    "            url_picture= df['urlfoto'][index],\n",
    "            name= df['nomeparlamentar'][index],\n",
    "            party= df['legendapartidoeleito'][index],\n",
    "            district= df['ufeleito'][index],\n",
    "            proprositions= df['autorias'][index]\n",
    "        ))\n",
    "        for index in df[:3].index]\n",
    "    \n",
    "    return ranking"
   ]
  },
  {
   "cell_type": "code",
   "execution_count": null,
   "metadata": {
    "collapsed": true
   },
   "outputs": [],
   "source": [
    "def propositions_table(df_json):\n",
    "    df = pd.read_json(df_json,orient='split')\n",
    "    df = df.ix[:,[\n",
    "        'idproposicao','tema','nomeproposicao','autor','dataapresentacao',\n",
    "        'ultimodespacho','data_ultima_tramitacao','situacao'\n",
    "    ]]\n",
    "    df.columns = [\n",
    "        'ID','Temas','Proposição','Autor','Data de Apresentação',\n",
    "        'Último despacho','Data da última Tramitação','Situação atual'\n",
    "    ]\n",
    "    \n",
    "    return generate_table(df)"
   ]
  },
  {
   "cell_type": "code",
   "execution_count": 100,
   "metadata": {
    "collapsed": true
   },
   "outputs": [],
   "source": [
    "def generate_table(dataframe, max_rows=10):\n",
    "    return html.Table(\n",
    "        # Header\n",
    "        [html.Tr([html.Th(col) for col in dataframe.columns])] +\n",
    "\n",
    "        # Body\n",
    "        [html.Tr([\n",
    "            html.Td(dataframe.iloc[i][col]) for col in dataframe.columns\n",
    "        ]) for i in range(min(len(dataframe), max_rows))]\n",
    "    )"
   ]
  },
  {
   "cell_type": "code",
   "execution_count": 8,
   "metadata": {
    "collapsed": true
   },
   "outputs": [],
   "source": [
    "def up_pec_disaggregated(df_json):\n",
    "    df = pd.read_json(df_json,orient='split')\n",
    "    df = df[df.nomeproposicao.str.startswith('PEC ')]\n",
    "    \n",
    "    approved = len(df[df.descricao_situacao == 'Aprovada'])\n",
    "    processing = len(df[df.descricao_situacao == 'Em tramitação'])\n",
    "    archived = len(df[df.descricao_situacao == 'Arquivada'])\n",
    "    \n",
    "    div = html.Div([\n",
    "        html.Div(\"{} Aprovadas\".format(approved)),\n",
    "        html.Div(\"{} Em tramitação\".format(processing)),\n",
    "        html.Div(\"{} Arquivadas\".format(archived))\n",
    "    ])\n",
    "    \n",
    "    return div\n",
    "\n",
    "def up_pl_disaggregated(df_json):\n",
    "    df = pd.read_json(df_json,orient='split')\n",
    "    df = df[df.nomeproposicao.str.startswith('PL ')]\n",
    "    \n",
    "    approved = len(df[df.descricao_situacao == 'Aprovada'])\n",
    "    processing = len(df[df.descricao_situacao == 'Em tramitação'])\n",
    "    archived = len(df[df.descricao_situacao == 'Arquivada'])\n",
    "    \n",
    "    div = html.Div([\n",
    "        html.Div(\"{} Aprovadas\".format(approved)),\n",
    "        html.Div(\"{} Em tramitação\".format(processing)),\n",
    "        html.Div(\"{} Arquivadas\".format(archived))\n",
    "    ])\n",
    "    \n",
    "    return div\n",
    "\n",
    "def up_mpv_disaggregated(df_json):\n",
    "    df = pd.read_json(df_json,orient='split')\n",
    "    df = df[df.nomeproposicao.str.startswith('MPV ')]\n",
    "    \n",
    "    approved = len(df[df.descricao_situacao == 'Aprovada'])\n",
    "    processing = len(df[df.descricao_situacao == 'Em tramitação'])\n",
    "    archived = len(df[df.descricao_situacao == 'Arquivada'])\n",
    "    \n",
    "    div = html.Div([\n",
    "        html.Div(\"{} Aprovadas\".format(approved)),\n",
    "        html.Div(\"{} Em tramitação\".format(processing)),\n",
    "        html.Div(\"{} Arquivadas\".format(archived))\n",
    "    ])\n",
    "    \n",
    "    return div\n",
    "\n",
    "def up_plp_disaggregated(df_json):\n",
    "    df = pd.read_json(df_json,orient='split')\n",
    "    df = df[df.nomeproposicao.str.startswith('PLP ')]\n",
    "    \n",
    "    approved = len(df[df.descricao_situacao == 'Aprovada'])\n",
    "    processing = len(df[df.descricao_situacao == 'Em tramitação'])\n",
    "    archived = len(df[df.descricao_situacao == 'Arquivada'])\n",
    "    \n",
    "    div = html.Div([\n",
    "        html.Div(\"{} Aprovadas\".format(approved)),\n",
    "        html.Div(\"{} Em tramitação\".format(processing)),\n",
    "        html.Div(\"{} Arquivadas\".format(archived))\n",
    "    ])\n",
    "    \n",
    "    return div\n",
    "\n",
    "def up_plv_disaggregated(df_json):\n",
    "    df = pd.read_json(df_json,orient='split')\n",
    "    df = df[df.nomeproposicao.str.startswith('PLV ')]\n",
    "    \n",
    "    approved = len(df[df.descricao_situacao == 'Aprovada'])\n",
    "    processing = len(df[df.descricao_situacao == 'Em tramitação'])\n",
    "    archived = len(df[df.descricao_situacao == 'Arquivada'])\n",
    "    \n",
    "    div = html.Div([\n",
    "        html.Div(\"{} Aprovadas\".format(approved)),\n",
    "        html.Div(\"{} Em tramitação\".format(processing)),\n",
    "        html.Div(\"{} Arquivadas\".format(archived))\n",
    "    ])\n",
    "    \n",
    "    return div\n",
    "\n",
    "def up_pdc_disaggregated(df_json):\n",
    "    df = pd.read_json(df_json,orient='split')\n",
    "    df = df[df.nomeproposicao.str.startswith('PDC ')]\n",
    "    \n",
    "    approved = len(df[df.descricao_situacao == 'Aprovada'])\n",
    "    processing = len(df[df.descricao_situacao == 'Em tramitação'])\n",
    "    archived = len(df[df.descricao_situacao == 'Arquivada'])\n",
    "    \n",
    "    div = html.Div([\n",
    "        html.Div(\"{} Aprovadas\".format(approved)),\n",
    "        html.Div(\"{} Em tramitação\".format(processing)),\n",
    "        html.Div(\"{} Arquivadas\".format(archived))\n",
    "    ])\n",
    "    \n",
    "    return div"
   ]
  },
  {
   "cell_type": "code",
   "execution_count": 7,
   "metadata": {
    "collapsed": true
   },
   "outputs": [],
   "source": [
    "def up_pec_amount(df_json):\n",
    "    df = pd.read_json(df_json,orient='split')\n",
    "    df = df[df.nomeproposicao.str.startswith('PEC ')]\n",
    "    return len(df)\n",
    "\n",
    "def up_pl_amount(df_json):\n",
    "    df = pd.read_json(df_json,orient='split')\n",
    "    df = df[df.nomeproposicao.str.startswith('PL ')]\n",
    "    return len(df)\n",
    "\n",
    "def up_mpv_amount(df_json):\n",
    "    df = pd.read_json(df_json,orient='split')\n",
    "    df = df[df.nomeproposicao.str.startswith('MPV ')]\n",
    "    return len(df)\n",
    "\n",
    "def up_plp_amount(df_json):\n",
    "    df = pd.read_json(df_json,orient='split')\n",
    "    df = df[df.nomeproposicao.str.startswith('PLP ')]\n",
    "    return len(df)\n",
    "\n",
    "def up_plv_amount(df_json):\n",
    "    df = pd.read_json(df_json,orient='split')\n",
    "    df = df[df.nomeproposicao.str.startswith('PLV ')]\n",
    "    return len(df)\n",
    "\n",
    "def up_pdc_amount(df_json):\n",
    "    df = pd.read_json(df_json,orient='split')\n",
    "    df = df[df.nomeproposicao.str.startswith('PDC ')]\n",
    "    return len(df)"
   ]
  },
  {
   "cell_type": "code",
   "execution_count": 6,
   "metadata": {
    "collapsed": true
   },
   "outputs": [],
   "source": [
    "def up_propositions_amount(df_json):\n",
    "    df = pd.read_json(df_json,orient='split')\n",
    "    return len(df)\n",
    "\n",
    "def up_approved_amount(df_json):\n",
    "    df = pd.read_json(df_json,orient='split')\n",
    "    df = df[df.descricao_situacao == 'Aprovada']\n",
    "    return len(df)\n",
    "\n",
    "def up_processing_amount(df_json):\n",
    "    df = pd.read_json(df_json,orient='split')\n",
    "    df = df[df.descricao_situacao == 'Em tramitação']\n",
    "    return len(df)\n",
    "\n",
    "def up_archived_amount(df_json):\n",
    "    df = pd.read_json(df_json,orient='split')\n",
    "    df = df[df.descricao_situacao == 'Arquivada']\n",
    "    return len(df)"
   ]
  }
 ],
 "metadata": {
  "kernelspec": {
   "display_name": "Python 3",
   "language": "python",
   "name": "python3"
  },
  "language_info": {
   "codemirror_mode": {
    "name": "ipython",
    "version": 3
   },
   "file_extension": ".py",
   "mimetype": "text/x-python",
   "name": "python",
   "nbconvert_exporter": "python",
   "pygments_lexer": "ipython3",
   "version": "3.5.2+"
  }
 },
 "nbformat": 4,
 "nbformat_minor": 2
}
